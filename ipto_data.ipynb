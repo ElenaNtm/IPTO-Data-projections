{
  "cells": [
    {
      "cell_type": "markdown",
      "metadata": {
        "id": "view-in-github",
        "colab_type": "text"
      },
      "source": [
        "<a href=\"https://colab.research.google.com/github/ElenaNtm/IPTO-Data-projections/blob/main/ipto_data.ipynb\" target=\"_parent\"><img src=\"https://colab.research.google.com/assets/colab-badge.svg\" alt=\"Open In Colab\"/></a>"
      ]
    },
    {
      "cell_type": "markdown",
      "metadata": {
        "id": "QdZNbHLZX7Co"
      },
      "source": [
        "#Libraries"
      ]
    },
    {
      "cell_type": "code",
      "execution_count": null,
      "metadata": {
        "id": "Z9wt3vBzKtun"
      },
      "outputs": [],
      "source": [
        "import pandas as pd\n",
        "#import requests\n",
        "from datetime import datetime, timedelta\n",
        "#from datetime import datetime, timedelta\n",
        "from urllib.error import HTTPError\n",
        "#import re\n",
        "#from urllib.parse import urlparse"
      ]
    },
    {
      "cell_type": "code",
      "source": [
        "from google.colab import drive\n",
        "drive.mount('drive')"
      ],
      "metadata": {
        "colab": {
          "base_uri": "https://localhost:8080/"
        },
        "id": "zoyTG0qI3q0D",
        "outputId": "86724ea0-3dff-4b16-b00b-86d0ef068d1c"
      },
      "execution_count": null,
      "outputs": [
        {
          "output_type": "stream",
          "name": "stdout",
          "text": [
            "Drive already mounted at drive; to attempt to forcibly remount, call drive.mount(\"drive\", force_remount=True).\n"
          ]
        }
      ]
    },
    {
      "cell_type": "markdown",
      "metadata": {
        "id": "3RofswukX98P"
      },
      "source": [
        "#Preliminaries"
      ]
    },
    {
      "cell_type": "code",
      "execution_count": null,
      "metadata": {
        "id": "XbetmgP_Kw8o"
      },
      "outputs": [],
      "source": [
        "# Initialize an empty DataFrame\n",
        "#df = pd.DataFrame()\n",
        "#df_not_found = pd.DataFrame()\n",
        "df_hydro = pd.DataFrame()\n",
        "df_lignite = pd.DataFrame()\n",
        "df_net_load = pd.DataFrame()\n",
        "df_gas = pd.DataFrame()\n",
        "df_res = pd.DataFrame()\n",
        "df_inter = pd.DataFrame()"
      ]
    },
    {
      "cell_type": "code",
      "execution_count": null,
      "metadata": {
        "id": "v03IYavSK3vc"
      },
      "outputs": [],
      "source": [
        "\n",
        "\"\"\"\n",
        "Οι ημ/νιες από 01/08/2020 δεν έχουν κάποιο θέμα εκτός από τη τελευταία μέρα του μήνα το οποίο θα το λύσουμε\n",
        "θα το σπάσουμε ανά χρόνο γιατί κρασάρει η διαδικασία αλλιώς\n",
        "\"\"\"\n",
        "base_url = \"https://www.admie.gr/sites/default/files/attached-files/type-file/\""
      ]
    },
    {
      "cell_type": "markdown",
      "metadata": {
        "id": "b_o3rbKhYCfr"
      },
      "source": [
        "#From May 2020\n"
      ]
    },
    {
      "cell_type": "code",
      "execution_count": null,
      "metadata": {
        "id": "hF9uKBfnK7GN"
      },
      "outputs": [],
      "source": [
        "#Manualy change the dates because if loaded all the system will crush\n",
        "start_date = datetime(2020, 6, 1)\n",
        "end_date = datetime(2020, 12, 31)\n",
        "date_format = \"%Y/%m/%Y%m%d\"\n",
        "current_date = start_date"
      ]
    },
    {
      "cell_type": "code",
      "execution_count": null,
      "metadata": {
        "id": "P2JJvIPxK-QS",
        "colab": {
          "base_uri": "https://localhost:8080/"
        },
        "outputId": "724ffffb-ea59-4169-bdd6-5269277fa01c"
      },
      "outputs": [
        {
          "output_type": "stream",
          "name": "stdout",
          "text": [
            "Error accessing URL: https://www.admie.gr/sites/default/files/attached-files/type-file/2020/06/20200630_SystemRealizationSCADA_01.xls\n",
            "Error accessing URL: https://www.admie.gr/sites/default/files/attached-files/type-file/2020/07/20200731_SystemRealizationSCADA_01.xls\n",
            "Error accessing URL: https://www.admie.gr/sites/default/files/attached-files/type-file/2020/08/20200831_SystemRealizationSCADA_01.xls\n",
            "Error accessing URL: https://www.admie.gr/sites/default/files/attached-files/type-file/2020/09/20200930_SystemRealizationSCADA_01.xls\n",
            "Error accessing URL: https://www.admie.gr/sites/default/files/attached-files/type-file/2020/10/20201031_SystemRealizationSCADA_01.xls\n",
            "Error accessing URL: https://www.admie.gr/sites/default/files/attached-files/type-file/2020/11/20201130_SystemRealizationSCADA_01.xls\n",
            "Error accessing URL: https://www.admie.gr/sites/default/files/attached-files/type-file/2020/12/20201231_SystemRealizationSCADA_01.xls\n"
          ]
        }
      ],
      "source": [
        "while current_date <= end_date:\n",
        "    date_str = current_date.strftime(date_format)\n",
        "    url = f\"{base_url}{date_str}_SystemRealizationSCADA_01.xls\"\n",
        "\n",
        "    try:\n",
        "        # Read the XLSX file into a pandas DataFrame\n",
        "        df1 = pd.read_excel(url, sheet_name=\"System_Production\", converters={'(ΣΤΟΙΧΕΙΑ SCADA ΜΗ-ΠΙΣΤΟΠΟΙΗΜΕΝΑ)':str})\n",
        "        #Hydro\n",
        "        substring = 'ΣΥΝΟΛΟ ΥΔΡΟΗΛΕΚΤΡΙΚΩΝ'\n",
        "        filtered = df1[df1.apply(lambda row: row.astype(str).str.contains(substring, case=False).any(), axis=1)]\n",
        "        wanted_index = filtered.index.tolist()\n",
        "\n",
        "        if not wanted_index:\n",
        "            substring = 'TOTAL HYDRO'\n",
        "            filtered = df1[df1.apply(lambda row: row.astype(str).str.contains(substring, case=False).any(), axis=1)]\n",
        "            wanted_index = filtered.index.tolist()\n",
        "\n",
        "        value = df1.iloc[wanted_index[len(wanted_index)-1],26]\n",
        "        row = pd.DataFrame([[value]], columns=['Total Hydro'], index=[date_str])\n",
        "        df_hydro = pd.concat([df_hydro, row])\n",
        "        df_hydro = df_hydro.rename(index={wanted_index[len(wanted_index)-1]: date_str})\n",
        "\n",
        "        #Lignite\n",
        "        substring = 'ΣΥΝΟΛΟ ΛΙΓΝΙΤΙΚΩΝ'\n",
        "        filtered = df1[df1.apply(lambda row: row.astype(str).str.contains(substring, case=False).any(), axis=1)]\n",
        "        wanted_index = filtered.index.tolist()\n",
        "\n",
        "        if not wanted_index:\n",
        "            substring = 'TOTAL LIGNITE'\n",
        "            filtered = df1[df1.apply(lambda row: row.astype(str).str.contains(substring, case=False).any(), axis=1)]\n",
        "            wanted_index = filtered.index.tolist()\n",
        "\n",
        "        value = df1.iloc[wanted_index[len(wanted_index)-1],26]\n",
        "        row = pd.DataFrame([[value]], columns=['Total Lignite in MWh'], index=[date_str])\n",
        "\n",
        "        df_lignite = pd.concat([df_lignite, row])\n",
        "        df_lignite = df_lignite.rename(index={wanted_index[len(wanted_index)-1]: date_str})\n",
        "\n",
        "        #Gas\n",
        "        substring = 'ΣΥΝΟΛΟ Φ. ΑΕΡΙΟΥ'\n",
        "        filtered = df1[df1.apply(lambda row: row.astype(str).str.contains(substring, case=False).any(), axis=1)]\n",
        "        wanted_index = filtered.index.tolist()\n",
        "\n",
        "        if not wanted_index:\n",
        "            substring = 'TOTAL GAS'\n",
        "            filtered = df1[df1.apply(lambda row: row.astype(str).str.contains(substring, case=False).any(), axis=1)]\n",
        "            wanted_index = filtered.index.tolist()\n",
        "\n",
        "        value = df1.iloc[wanted_index[len(wanted_index)-1],26]\n",
        "        row = pd.DataFrame([[value]], columns=['Total Gas'], index=[date_str])\n",
        "\n",
        "        df_gas = pd.concat([df_gas, row])\n",
        "        df_gas = df_gas.rename(index={wanted_index[len(wanted_index)-1]: date_str})\n",
        "\n",
        "\n",
        "        #RES\n",
        "        substring = 'TOTAL RES'\n",
        "        filtered = df1[df1.apply(lambda row: row.astype(str).str.contains(substring, case=False).any(), axis=1)]\n",
        "        wanted_index = filtered.index.tolist()\n",
        "\n",
        "        if not wanted_index:\n",
        "            substring = 'ΣΥΝΟΛΟ ΑΙΟΛΙΚΩΝ'\n",
        "            filtered = df1[df1.apply(lambda row: row.astype(str).str.contains(substring, case=False).any(), axis=1)]\n",
        "            wanted_index = filtered.index.tolist()\n",
        "\n",
        "        value = df1.iloc[wanted_index[len(wanted_index)-1],26]\n",
        "        row = pd.DataFrame([[value]], columns=['Total RES'], index=[date_str])\n",
        "\n",
        "        df_res = pd.concat([df_res, row])\n",
        "        df_res = df_res.rename(index={wanted_index[len(wanted_index)-1]: date_str})\n",
        "\n",
        "\n",
        "        #Interconections\n",
        "        substring = 'EXPORTS-IMPORTS'\n",
        "        filtered = df1[df1.apply(lambda row: row.astype(str).str.contains(substring, case=False).any(), axis=1)]\n",
        "        wanted_index = filtered.index.tolist()\n",
        "\n",
        "        if not wanted_index:\n",
        "            substring = 'ΚΑΘΑΡΟ ΔΙΑΣΥΝΔΕΣΕΩΝ'\n",
        "            filtered = df1[df1.apply(lambda row: row.astype(str).str.contains(substring, case=False).any(), axis=1)]\n",
        "            wanted_index = filtered.index.tolist()\n",
        "\n",
        "        value = df1.iloc[wanted_index[len(wanted_index)-1],26]\n",
        "        row = pd.DataFrame([[value]], columns=['Exports - Imports'], index=[date_str])\n",
        "\n",
        "        df_inter = pd.concat([df_inter, row])\n",
        "        df_inter = df_inter.rename(index={wanted_index[len(wanted_index)-1]: date_str})\n",
        "\n",
        "\n",
        "        #Net Load\n",
        "        substring = 'NET LOAD'\n",
        "        filtered = df1[df1.apply(lambda row: row.astype(str).str.contains(substring, case=False).any(), axis=1)]\n",
        "        wanted_index = filtered.index.tolist()\n",
        "\n",
        "        if not wanted_index:\n",
        "            substring = 'ΚΑΘΑΡΟ ΦΟΡΤΙΟ'\n",
        "            filtered = df1[df1.apply(lambda row: row.astype(str).str.contains(substring, case=False).any(), axis=1)]\n",
        "            wanted_index = filtered.index.tolist()\n",
        "\n",
        "        value = df1.iloc[wanted_index[len(wanted_index)-1],26]\n",
        "        row = pd.DataFrame([[value]], columns=['Total Net Load'], index=[date_str])\n",
        "\n",
        "        df_net_load = pd.concat([df_net_load, row])\n",
        "        df_net_load = df_net_load.rename(index={wanted_index[len(wanted_index)-1]: date_str})\n",
        "    except HTTPError as e:\n",
        "        print(f\"Error accessing URL: {url}\")\n",
        "        #print(e)\n",
        "\n",
        "\n",
        "    # Increment to the next date\n",
        "    current_date += timedelta(days=1)"
      ]
    },
    {
      "cell_type": "code",
      "execution_count": null,
      "metadata": {
        "id": "LDdeEloJLBK_"
      },
      "outputs": [],
      "source": [
        "\"\"\"\n",
        "2020 Not found urls\n",
        "\"\"\"\n",
        "url6 = 'https://www.admie.gr/sites/default/files/attached-files/type-file/2020/07/20200630_SystemRealizationSCADA_01.xls'\n",
        "url7 = 'https://www.admie.gr/sites/default/files/attached-files/type-file/2020/08/20200731_SystemRealizationSCADA_01.xls'\n",
        "url8 = 'https://www.admie.gr/sites/default/files/attached-files/type-file/2020/09/20200831_SystemRealizationSCADA_01.xls'\n",
        "url9 = 'https://www.admie.gr/sites/default/files/attached-files/type-file/2020/10/20200930_SystemRealizationSCADA_01.xls'\n",
        "url10 = 'https://www.admie.gr/sites/default/files/attached-files/type-file/2020/11/20201031_SystemRealizationSCADA_01.xls'\n",
        "url11 = 'https://www.admie.gr/sites/default/files/attached-files/type-file/2020/12/20201130_SystemRealizationSCADA_01.xls'\n",
        "url12 = 'https://www.admie.gr/sites/default/files/attached-files/type-file/2021/01/20201231_SystemRealizationSCADA_01.xls'\n",
        "url = [url6,url7,url8,url9,url10,url11,url12]\n",
        "date = {url6: '2020/07/20200630', #June\n",
        "        url7: '2020/07/20200731', #July\n",
        "        url8: '2020/07/20200831', #August\n",
        "        url9: '2020/07/20200930', #September\n",
        "        url10: '2020/07/20201031', #Octomber\n",
        "        url11: '2020/07/20201130', #November\n",
        "        url12: '2020/07/20201031', #December\n",
        "}"
      ]
    },
    {
      "cell_type": "code",
      "execution_count": null,
      "metadata": {
        "id": "gCqBVQACLETI"
      },
      "outputs": [],
      "source": [
        "for i in url:\n",
        "    df2 = pd.read_excel(i, sheet_name=\"System_Production\", converters={'(ΣΤΟΙΧΕΙΑ SCADA ΜΗ-ΠΙΣΤΟΠΟΙΗΜΕΝΑ)':str})\n",
        "    #Hydro\n",
        "    substring = 'ΣΥΝΟΛΟ ΥΔΡΟΗΛΕΚΤΡΙΚΩΝ'\n",
        "    filtered = df2[df2.apply(lambda row: row.astype(str).str.contains(substring, case=False).any(), axis=1)]\n",
        "    wanted_index = filtered.index.tolist()\n",
        "\n",
        "    if not wanted_index:\n",
        "        substring = 'TOTAL HYDRO'\n",
        "        filtered = df2[df2.apply(lambda row: row.astype(str).str.contains(substring, case=False).any(), axis=1)]\n",
        "        wanted_index = filtered.index.tolist()\n",
        "\n",
        "    value = df2.iloc[wanted_index[len(wanted_index)-1],26]\n",
        "    row = pd.DataFrame([[value]], columns=['Total Hydro'], index=[date[i]])\n",
        "    df_hydro = pd.concat([df_hydro, row])\n",
        "    df_hydro = df_hydro.rename(index={wanted_index[len(wanted_index)-1]: date[i]})\n",
        "\n",
        "    #Lignite\n",
        "    substring = 'ΣΥΝΟΛΟ ΛΙΓΝΙΤΙΚΩΝ'\n",
        "    filtered = df2[df2.apply(lambda row: row.astype(str).str.contains(substring, case=False).any(), axis=1)]\n",
        "    wanted_index = filtered.index.tolist()\n",
        "\n",
        "    if not wanted_index:\n",
        "        substring = 'TOTAL LIGNITE'\n",
        "        filtered = df2[df2.apply(lambda row: row.astype(str).str.contains(substring, case=False).any(), axis=1)]\n",
        "        wanted_index = filtered.index.tolist()\n",
        "\n",
        "    value = df2.iloc[wanted_index[len(wanted_index)-1],26]\n",
        "    row = pd.DataFrame([[value]], columns=['Total Lignite in MWh'], index=[date[i]])\n",
        "\n",
        "    df_lignite = pd.concat([df_lignite, row])\n",
        "    df_lignite = df_lignite.rename(index={wanted_index[len(wanted_index)-1]: date[i]})\n",
        "\n",
        "    #Gas\n",
        "    substring = 'ΣΥΝΟΛΟ Φ. ΑΕΡΙΟΥ'\n",
        "    filtered = df2[df2.apply(lambda row: row.astype(str).str.contains(substring, case=False).any(), axis=1)]\n",
        "    wanted_index = filtered.index.tolist()\n",
        "\n",
        "    if not wanted_index:\n",
        "        substring = 'TOTAL GAS'\n",
        "        filtered = df2[df2.apply(lambda row: row.astype(str).str.contains(substring, case=False).any(), axis=1)]\n",
        "        wanted_index = filtered.index.tolist()\n",
        "\n",
        "    value = df2.iloc[wanted_index[len(wanted_index)-1],26]\n",
        "    row = pd.DataFrame([[value]], columns=['Total Gas'], index=[date[i]])\n",
        "\n",
        "    df_gas = pd.concat([df_gas, row])\n",
        "    df_gas = df_gas.rename(index={wanted_index[len(wanted_index)-1]: date[i]})\n",
        "\n",
        "    #RES\n",
        "    substring = 'TOTAL RES'\n",
        "    filtered = df2[df2.apply(lambda row: row.astype(str).str.contains(substring, case=False).any(), axis=1)]\n",
        "    wanted_index = filtered.index.tolist()\n",
        "\n",
        "    if not wanted_index:\n",
        "        substring = 'ΣΥΝΟΛΟ ΑΙΟΛΙΚΩΝ'\n",
        "        filtered = df2[df2.apply(lambda row: row.astype(str).str.contains(substring, case=False).any(), axis=1)]\n",
        "        wanted_index = filtered.index.tolist()\n",
        "\n",
        "    value = df2.iloc[wanted_index[len(wanted_index)-1],26]\n",
        "    row = pd.DataFrame([[value]], columns=['Total RES'], index=[date[i]])\n",
        "\n",
        "    df_res = pd.concat([df_res, row])\n",
        "    df_res = df_res.rename(index={wanted_index[len(wanted_index)-1]: date[i]})\n",
        "\n",
        "    #Interconections\n",
        "    substring = 'EXPORTS-IMPORTS'\n",
        "    filtered = df2[df2.apply(lambda row: row.astype(str).str.contains(substring, case=False).any(), axis=1)]\n",
        "    wanted_index = filtered.index.tolist()\n",
        "\n",
        "    if not wanted_index:\n",
        "        substring = 'ΚΑΘΑΡΟ ΔΙΑΣΥΝΔΕΣΕΩΝ'\n",
        "        filtered = df2[df2.apply(lambda row: row.astype(str).str.contains(substring, case=False).any(), axis=1)]\n",
        "        wanted_index = filtered.index.tolist()\n",
        "\n",
        "    value = df2.iloc[wanted_index[len(wanted_index)-1],26]\n",
        "    row = pd.DataFrame([[value]], columns=['Exports - Imports'], index=[date[i]])\n",
        "\n",
        "    df_inter = pd.concat([df_inter, row])\n",
        "    df_inter = df_inter.rename(index={wanted_index[len(wanted_index)-1]: date[i]})\n",
        "    #Net Load\n",
        "    substring = 'NET LOAD'\n",
        "    filtered = df2[df2.apply(lambda row: row.astype(str).str.contains(substring, case=False).any(), axis=1)]\n",
        "    wanted_index = filtered.index.tolist()\n",
        "\n",
        "    if not wanted_index:\n",
        "        substring = 'ΚΑΘΑΡΟ ΦΟΡΤΙΟ'\n",
        "        filtered = df2[df2.apply(lambda row: row.astype(str).str.contains(substring, case=False).any(), axis=1)]\n",
        "        wanted_index = filtered.index.tolist()\n",
        "\n",
        "    value = df2.iloc[wanted_index[len(wanted_index)-1],26]\n",
        "    row = pd.DataFrame([[value]], columns=['Total Net Load'], index=[date[i]])\n",
        "\n",
        "    df_net_load = pd.concat([df_net_load, row])\n",
        "    df_net_load = df_net_load.rename(index={wanted_index[len(wanted_index)-1]: date[i]})\n"
      ]
    },
    {
      "cell_type": "markdown",
      "source": [
        "##Save the data for 2020"
      ],
      "metadata": {
        "id": "YjB-XLj-3GNA"
      }
    },
    {
      "cell_type": "markdown",
      "metadata": {
        "id": "NBdBdFiy3XBZ"
      },
      "source": [
        "##Drop duplicates\n"
      ]
    },
    {
      "cell_type": "code",
      "execution_count": null,
      "metadata": {
        "colab": {
          "base_uri": "https://localhost:8080/"
        },
        "outputId": "ff0bd21c-9d56-49fd-a2b4-4daaf84a8c31",
        "id": "aiFG9apA3XBn"
      },
      "outputs": [
        {
          "output_type": "stream",
          "name": "stderr",
          "text": [
            "<ipython-input-9-5932f93a05b3>:4: SettingWithCopyWarning: \n",
            "A value is trying to be set on a copy of a slice from a DataFrame\n",
            "\n",
            "See the caveats in the documentation: https://pandas.pydata.org/pandas-docs/stable/user_guide/indexing.html#returning-a-view-versus-a-copy\n",
            "  df_res.drop(['index'], axis = 1, inplace = True)\n",
            "<ipython-input-9-5932f93a05b3>:9: SettingWithCopyWarning: \n",
            "A value is trying to be set on a copy of a slice from a DataFrame\n",
            "\n",
            "See the caveats in the documentation: https://pandas.pydata.org/pandas-docs/stable/user_guide/indexing.html#returning-a-view-versus-a-copy\n",
            "  df_hydro.drop(['index'], axis = 1, inplace = True)\n",
            "<ipython-input-9-5932f93a05b3>:14: SettingWithCopyWarning: \n",
            "A value is trying to be set on a copy of a slice from a DataFrame\n",
            "\n",
            "See the caveats in the documentation: https://pandas.pydata.org/pandas-docs/stable/user_guide/indexing.html#returning-a-view-versus-a-copy\n",
            "  df_lignite.drop(['index'], axis = 1, inplace = True)\n",
            "<ipython-input-9-5932f93a05b3>:24: SettingWithCopyWarning: \n",
            "A value is trying to be set on a copy of a slice from a DataFrame\n",
            "\n",
            "See the caveats in the documentation: https://pandas.pydata.org/pandas-docs/stable/user_guide/indexing.html#returning-a-view-versus-a-copy\n",
            "  df_gas.drop(['index'], axis = 1, inplace = True)\n"
          ]
        }
      ],
      "source": [
        "#RES\n",
        "df_res['index'] = df_res.index\n",
        "df_res = df_res.drop_duplicates(subset='index')\n",
        "df_res.drop(['index'], axis = 1, inplace = True)\n",
        "\n",
        "#HYDRO\n",
        "df_hydro['index'] = df_hydro.index\n",
        "df_hydro = df_hydro.drop_duplicates(subset='index')\n",
        "df_hydro.drop(['index'], axis = 1, inplace = True)\n",
        "\n",
        "#LIGNITE\n",
        "df_lignite['index'] = df_lignite.index\n",
        "df_lignite = df_lignite.drop_duplicates(subset='index')\n",
        "df_lignite.drop(['index'], axis = 1, inplace = True)\n",
        "\n",
        "#NET LOAD\n",
        "df_net_load['index'] = df_net_load.index\n",
        "df_net_load = df_net_load.drop_duplicates(subset='index')\n",
        "df_net_load.drop(['index'], axis = 1, inplace = True)\n",
        "\n",
        "#GAS\n",
        "df_gas['index'] = df_gas.index\n",
        "df_gas = df_gas.drop_duplicates(subset='index')\n",
        "df_gas.drop(['index'], axis = 1, inplace = True)\n",
        "\n",
        "#GAS\n",
        "df_inter['index'] = df_inter.index\n",
        "df_inter = df_inter.drop_duplicates(subset='index')\n",
        "df_inter.drop(['index'], axis = 1, inplace = True)"
      ]
    },
    {
      "cell_type": "markdown",
      "metadata": {
        "id": "bXtp25pr3XBo"
      },
      "source": [
        "##Indexes"
      ]
    },
    {
      "cell_type": "code",
      "execution_count": null,
      "metadata": {
        "id": "Hc5qLbxt3XBo"
      },
      "outputs": [],
      "source": [
        "df_gas.index = df_gas.index.str[8:]\n",
        "df_hydro.index = df_hydro.index.str[8:]\n",
        "df_lignite.index = df_lignite.index.str[8:]\n",
        "df_net_load.index = df_net_load.index.str[8:]\n",
        "df_res.index = df_res.index.str[8:]\n",
        "df_inter.index = df_inter.index.str[8:]"
      ]
    },
    {
      "cell_type": "markdown",
      "metadata": {
        "id": "2oBYxHoj3XBo"
      },
      "source": [
        "##Datetime format"
      ]
    },
    {
      "cell_type": "code",
      "execution_count": null,
      "metadata": {
        "id": "mwFfLlsy3XBp"
      },
      "outputs": [],
      "source": [
        "df_res.index = pd.to_datetime(df_res.index, format='%Y/%m/%d')\n",
        "df_lignite.index = pd.to_datetime(df_lignite.index, format='%Y/%m/%d')\n",
        "df_net_load.index = pd.to_datetime(df_net_load.index, format='%Y/%m/%d')\n",
        "df_hydro.index = pd.to_datetime(df_hydro.index, format='%Y/%m/%d')\n",
        "df_gas.index = pd.to_datetime(df_gas.index, format='%Y/%m/%d')\n",
        "df_inter.index = pd.to_datetime(df_inter.index, format= '%Y/%m/%d')"
      ]
    },
    {
      "cell_type": "markdown",
      "source": [
        "##Save to drive\n"
      ],
      "metadata": {
        "id": "tx-zSYeq3hjy"
      }
    },
    {
      "cell_type": "code",
      "source": [
        "df_gas.to_csv('gas_2020.csv')\n",
        "!cp gas_2020.csv \"drive/My Drive/\""
      ],
      "metadata": {
        "id": "knEOYTA33FiQ"
      },
      "execution_count": null,
      "outputs": []
    },
    {
      "cell_type": "code",
      "source": [
        "df_res.to_csv('res_2020.csv')\n",
        "!cp res_2020.csv \"drive/My Drive/\""
      ],
      "metadata": {
        "id": "c2NuOJWN3_cw"
      },
      "execution_count": null,
      "outputs": []
    },
    {
      "cell_type": "code",
      "source": [
        "df_lignite.to_csv('lignite_2020.csv')\n",
        "!cp lignite_2020.csv \"drive/My Drive/\""
      ],
      "metadata": {
        "id": "0Y-uM3F03_gQ"
      },
      "execution_count": null,
      "outputs": []
    },
    {
      "cell_type": "code",
      "source": [
        "df_net_load.to_csv('net_load_2020.csv')\n",
        "!cp net_load_2020.csv \"drive/My Drive/\""
      ],
      "metadata": {
        "id": "lMyw7rqA3_jp"
      },
      "execution_count": null,
      "outputs": []
    },
    {
      "cell_type": "code",
      "source": [
        "df_hydro.to_csv('hydro_2020.csv')\n",
        "!cp hydro_2020.csv \"drive/My Drive/\""
      ],
      "metadata": {
        "id": "o_Vwgfc23_mv"
      },
      "execution_count": null,
      "outputs": []
    },
    {
      "cell_type": "code",
      "source": [
        "df_inter.to_csv('inter_2020.csv')\n",
        "!cp inter_2020.csv \"drive/My Drive/\""
      ],
      "metadata": {
        "id": "Eyw0hckH4cfi"
      },
      "execution_count": null,
      "outputs": []
    },
    {
      "cell_type": "markdown",
      "metadata": {
        "id": "0z6Er6EZJfQ1"
      },
      "source": [
        "#Preliminaries"
      ]
    },
    {
      "cell_type": "code",
      "execution_count": null,
      "metadata": {
        "id": "lz7cJn2HJfRF"
      },
      "outputs": [],
      "source": [
        "# Initialize an empty DataFrame\n",
        "#df = pd.DataFrame()\n",
        "#df_not_found = pd.DataFrame()\n",
        "df_hydro = pd.DataFrame()\n",
        "df_lignite = pd.DataFrame()\n",
        "df_net_load = pd.DataFrame()\n",
        "df_gas = pd.DataFrame()\n",
        "df_res = pd.DataFrame()\n",
        "df_inter = pd.DataFrame()"
      ]
    },
    {
      "cell_type": "markdown",
      "metadata": {
        "id": "dEyWD1uZYL7V"
      },
      "source": [
        "#2021"
      ]
    },
    {
      "cell_type": "code",
      "execution_count": null,
      "metadata": {
        "id": "jfsqsBkhX3M6"
      },
      "outputs": [],
      "source": [
        "#Manualy change the dates because if loaded all the system will crush\n",
        "start_date = datetime(2021, 1, 1)\n",
        "end_date = datetime(2021, 12, 31)\n",
        "date_format = \"%Y/%m/%Y%m%d\"\n",
        "current_date = start_date"
      ]
    },
    {
      "cell_type": "code",
      "execution_count": null,
      "metadata": {
        "colab": {
          "base_uri": "https://localhost:8080/"
        },
        "id": "kvtu5T_SX3M7",
        "outputId": "8e23e00c-c6ce-4d6a-80da-f8304bcb4af3"
      },
      "outputs": [
        {
          "output_type": "stream",
          "name": "stdout",
          "text": [
            "Error accessing URL: https://www.admie.gr/sites/default/files/attached-files/type-file/2021/01/20210131_SystemRealizationSCADA_01.xls\n",
            "Error accessing URL: https://www.admie.gr/sites/default/files/attached-files/type-file/2021/02/20210228_SystemRealizationSCADA_01.xls\n",
            "Error accessing URL: https://www.admie.gr/sites/default/files/attached-files/type-file/2021/03/20210331_SystemRealizationSCADA_01.xls\n",
            "Error accessing URL: https://www.admie.gr/sites/default/files/attached-files/type-file/2021/04/20210430_SystemRealizationSCADA_01.xls\n",
            "Error accessing URL: https://www.admie.gr/sites/default/files/attached-files/type-file/2021/05/20210531_SystemRealizationSCADA_01.xls\n",
            "Error accessing URL: https://www.admie.gr/sites/default/files/attached-files/type-file/2021/06/20210630_SystemRealizationSCADA_01.xls\n",
            "Error accessing URL: https://www.admie.gr/sites/default/files/attached-files/type-file/2021/07/20210731_SystemRealizationSCADA_01.xls\n",
            "Error accessing URL: https://www.admie.gr/sites/default/files/attached-files/type-file/2021/08/20210831_SystemRealizationSCADA_01.xls\n",
            "Error accessing URL: https://www.admie.gr/sites/default/files/attached-files/type-file/2021/09/20210930_SystemRealizationSCADA_01.xls\n",
            "Error accessing URL: https://www.admie.gr/sites/default/files/attached-files/type-file/2021/10/20211031_SystemRealizationSCADA_01.xls\n",
            "Error accessing URL: https://www.admie.gr/sites/default/files/attached-files/type-file/2021/11/20211130_SystemRealizationSCADA_01.xls\n",
            "Error accessing URL: https://www.admie.gr/sites/default/files/attached-files/type-file/2021/12/20211231_SystemRealizationSCADA_01.xls\n"
          ]
        }
      ],
      "source": [
        "while current_date <= end_date:\n",
        "    date_str = current_date.strftime(date_format)\n",
        "    url = f\"{base_url}{date_str}_SystemRealizationSCADA_01.xls\"\n",
        "\n",
        "    try:\n",
        "        # Read the XLSX file into a pandas DataFrame\n",
        "        df1 = pd.read_excel(url, sheet_name=\"System_Production\", converters={'(ΣΤΟΙΧΕΙΑ SCADA ΜΗ-ΠΙΣΤΟΠΟΙΗΜΕΝΑ)':str})\n",
        "        #Hydro\n",
        "        substring = 'ΣΥΝΟΛΟ ΥΔΡΟΗΛΕΚΤΡΙΚΩΝ'\n",
        "        filtered = df1[df1.apply(lambda row: row.astype(str).str.contains(substring, case=False).any(), axis=1)]\n",
        "        wanted_index = filtered.index.tolist()\n",
        "\n",
        "        if not wanted_index:\n",
        "            substring = 'TOTAL HYDRO'\n",
        "            filtered = df1[df1.apply(lambda row: row.astype(str).str.contains(substring, case=False).any(), axis=1)]\n",
        "            wanted_index = filtered.index.tolist()\n",
        "\n",
        "        value = df1.iloc[wanted_index[len(wanted_index)-1],26]\n",
        "        row = pd.DataFrame([[value]], columns=['Total Hydro'], index=[date_str])\n",
        "        df_hydro = pd.concat([df_hydro, row])\n",
        "        df_hydro = df_hydro.rename(index={wanted_index[len(wanted_index)-1]: date_str})\n",
        "\n",
        "        #Lignite\n",
        "        substring = 'ΣΥΝΟΛΟ ΛΙΓΝΙΤΙΚΩΝ'\n",
        "        filtered = df1[df1.apply(lambda row: row.astype(str).str.contains(substring, case=False).any(), axis=1)]\n",
        "        wanted_index = filtered.index.tolist()\n",
        "\n",
        "        if not wanted_index:\n",
        "            substring = 'TOTAL LIGNITE'\n",
        "            filtered = df1[df1.apply(lambda row: row.astype(str).str.contains(substring, case=False).any(), axis=1)]\n",
        "            wanted_index = filtered.index.tolist()\n",
        "\n",
        "        value = df1.iloc[wanted_index[len(wanted_index)-1],26]\n",
        "        row = pd.DataFrame([[value]], columns=['Total Lignite in MWh'], index=[date_str])\n",
        "\n",
        "        df_lignite = pd.concat([df_lignite, row])\n",
        "        df_lignite = df_lignite.rename(index={wanted_index[len(wanted_index)-1]: date_str})\n",
        "\n",
        "        #Gas\n",
        "        substring = 'ΣΥΝΟΛΟ Φ. ΑΕΡΙΟΥ'\n",
        "        filtered = df1[df1.apply(lambda row: row.astype(str).str.contains(substring, case=False).any(), axis=1)]\n",
        "        wanted_index = filtered.index.tolist()\n",
        "\n",
        "        if not wanted_index:\n",
        "            substring = 'TOTAL GAS'\n",
        "            filtered = df1[df1.apply(lambda row: row.astype(str).str.contains(substring, case=False).any(), axis=1)]\n",
        "            wanted_index = filtered.index.tolist()\n",
        "\n",
        "        value = df1.iloc[wanted_index[len(wanted_index)-1],26]\n",
        "        row = pd.DataFrame([[value]], columns=['Total Gas'], index=[date_str])\n",
        "\n",
        "        df_gas = pd.concat([df_gas, row])\n",
        "        df_gas = df_gas.rename(index={wanted_index[len(wanted_index)-1]: date_str})\n",
        "\n",
        "\n",
        "        #RES\n",
        "        substring = 'TOTAL RES'\n",
        "        filtered = df1[df1.apply(lambda row: row.astype(str).str.contains(substring, case=False).any(), axis=1)]\n",
        "        wanted_index = filtered.index.tolist()\n",
        "\n",
        "        if not wanted_index:\n",
        "            substring = 'ΣΥΝΟΛΟ ΑΙΟΛΙΚΩΝ'\n",
        "            filtered = df1[df1.apply(lambda row: row.astype(str).str.contains(substring, case=False).any(), axis=1)]\n",
        "            wanted_index = filtered.index.tolist()\n",
        "\n",
        "        value = df1.iloc[wanted_index[len(wanted_index)-1],26]\n",
        "        row = pd.DataFrame([[value]], columns=['Total RES'], index=[date_str])\n",
        "\n",
        "        df_res = pd.concat([df_res, row])\n",
        "        df_res = df_res.rename(index={wanted_index[len(wanted_index)-1]: date_str})\n",
        "\n",
        "\n",
        "        #Interconections\n",
        "        substring = 'EXPORTS-IMPORTS'\n",
        "        filtered = df1[df1.apply(lambda row: row.astype(str).str.contains(substring, case=False).any(), axis=1)]\n",
        "        wanted_index = filtered.index.tolist()\n",
        "\n",
        "        if not wanted_index:\n",
        "            substring = 'ΚΑΘΑΡΟ ΔΙΑΣΥΝΔΕΣΕΩΝ'\n",
        "            filtered = df1[df1.apply(lambda row: row.astype(str).str.contains(substring, case=False).any(), axis=1)]\n",
        "            wanted_index = filtered.index.tolist()\n",
        "\n",
        "        value = df1.iloc[wanted_index[len(wanted_index)-1],26]\n",
        "        row = pd.DataFrame([[value]], columns=['Exports - Imports'], index=[date_str])\n",
        "\n",
        "        df_inter = pd.concat([df_inter, row])\n",
        "        df_inter = df_inter.rename(index={wanted_index[len(wanted_index)-1]: date_str})\n",
        "\n",
        "\n",
        "        #Net Load\n",
        "        substring = 'NET LOAD'\n",
        "        filtered = df1[df1.apply(lambda row: row.astype(str).str.contains(substring, case=False).any(), axis=1)]\n",
        "        wanted_index = filtered.index.tolist()\n",
        "\n",
        "        if not wanted_index:\n",
        "            substring = 'ΚΑΘΑΡΟ ΦΟΡΤΙΟ'\n",
        "            filtered = df1[df1.apply(lambda row: row.astype(str).str.contains(substring, case=False).any(), axis=1)]\n",
        "            wanted_index = filtered.index.tolist()\n",
        "\n",
        "        value = df1.iloc[wanted_index[len(wanted_index)-1],26]\n",
        "        row = pd.DataFrame([[value]], columns=['Total Net Load'], index=[date_str])\n",
        "\n",
        "        df_net_load = pd.concat([df_net_load, row])\n",
        "        df_net_load = df_net_load.rename(index={wanted_index[len(wanted_index)-1]: date_str})\n",
        "    except HTTPError as e:\n",
        "        print(f\"Error accessing URL: {url}\")\n",
        "        #print(e)\n",
        "\n",
        "\n",
        "    # Increment to the next date\n",
        "    current_date += timedelta(days=1)"
      ]
    },
    {
      "cell_type": "code",
      "source": [
        "df_inter.info()"
      ],
      "metadata": {
        "colab": {
          "base_uri": "https://localhost:8080/"
        },
        "id": "eEfUzpgg8Whc",
        "outputId": "f948bd75-5e70-4922-bb8b-83b8523625cd"
      },
      "execution_count": null,
      "outputs": [
        {
          "output_type": "stream",
          "name": "stdout",
          "text": [
            "<class 'pandas.core.frame.DataFrame'>\n",
            "Index: 353 entries, 2021/01/20210101 to 2021/12/20211230\n",
            "Data columns (total 1 columns):\n",
            " #   Column             Non-Null Count  Dtype\n",
            "---  ------             --------------  -----\n",
            " 0   Exports - Imports  353 non-null    int64\n",
            "dtypes: int64(1)\n",
            "memory usage: 5.5+ KB\n"
          ]
        }
      ]
    },
    {
      "cell_type": "code",
      "execution_count": null,
      "metadata": {
        "id": "GrgP6nojX3M9"
      },
      "outputs": [],
      "source": [
        "url1 = \"https://www.admie.gr/sites/default/files/attached-files/type-file/2021/02/20210131_SystemRealizationSCADA_01.xls\"\n",
        "url2 = \"https://www.admie.gr/sites/default/files/attached-files/type-file/2021/03/20210228_SystemRealizationSCADA_01.xls\"\n",
        "url3 = \"https://www.admie.gr/sites/default/files/attached-files/type-file/2021/04/20210331_SystemRealizationSCADA_01.xls\"\n",
        "url4 = \"https://www.admie.gr/sites/default/files/attached-files/type-file/2021/05/20210430_SystemRealizationSCADA_01.xls\"\n",
        "url5 = \"https://www.admie.gr/sites/default/files/attached-files/type-file/2021/06/20210531_SystemRealizationSCADA_01.xls\"\n",
        "url6 = \"https://www.admie.gr/sites/default/files/attached-files/type-file/2021/07/20210630_SystemRealizationSCADA_01.xls\"\n",
        "url7 = \"https://www.admie.gr/sites/default/files/attached-files/type-file/2021/08/20210731_SystemRealizationSCADA_01.xls\"\n",
        "url8 = \"https://www.admie.gr/sites/default/files/attached-files/type-file/2021/09/20210831_SystemRealizationSCADA_01.xls\"\n",
        "url9 = \"https://www.admie.gr/sites/default/files/attached-files/type-file/2021/10/20210930_SystemRealizationSCADA_01.xls\"\n",
        "url10 = \"https://www.admie.gr/sites/default/files/attached-files/type-file/2021/11/20211031_SystemRealizationSCADA_01.xls\"\n",
        "url11 = \"https://www.admie.gr/sites/default/files/attached-files/type-file/2021/12/20211130_SystemRealizationSCADA_01.xls\"\n",
        "url12 = \"https://www.admie.gr/sites/default/files/attached-files/type-file/2022/01/20211231_SystemRealizationSCADA_01.xls\"\n",
        "\n",
        "url = [url1, url2, url3, url4, url5, url6, url7, url8, url9, url10, url11, url12]\n",
        "date = {url1: '2020/07/20210131', #June\n",
        "        url2: '2020/07/20210228', #July\n",
        "        url3: '2020/07/20210331', #August\n",
        "        url4: '2020/07/20210430', #September\n",
        "        url5: '2020/07/20210531', #Octomber\n",
        "        url6: '2020/07/20210630', #June\n",
        "        url7: '2020/07/20210731', #July\n",
        "        url8: '2020/07/20210831', #August\n",
        "        url9: '2020/07/20210930', #September\n",
        "        url10: '2020/07/20211031', #Octomber\n",
        "        url11: '2020/07/20211130', #November\n",
        "        url12: '2020/07/20211031' #December\n",
        "}"
      ]
    },
    {
      "cell_type": "code",
      "execution_count": null,
      "metadata": {
        "id": "NInF7Lz0X3M9"
      },
      "outputs": [],
      "source": [
        "for i in url:\n",
        "    df2 = pd.read_excel(i, sheet_name=\"System_Production\", converters={'(ΣΤΟΙΧΕΙΑ SCADA ΜΗ-ΠΙΣΤΟΠΟΙΗΜΕΝΑ)':str})\n",
        "    #Hydro\n",
        "    substring = 'ΣΥΝΟΛΟ ΥΔΡΟΗΛΕΚΤΡΙΚΩΝ'\n",
        "    filtered = df2[df2.apply(lambda row: row.astype(str).str.contains(substring, case=False).any(), axis=1)]\n",
        "    wanted_index = filtered.index.tolist()\n",
        "\n",
        "    if not wanted_index:\n",
        "        substring = 'TOTAL HYDRO'\n",
        "        filtered = df2[df2.apply(lambda row: row.astype(str).str.contains(substring, case=False).any(), axis=1)]\n",
        "        wanted_index = filtered.index.tolist()\n",
        "\n",
        "    value = df2.iloc[wanted_index[len(wanted_index)-1],26]\n",
        "    row = pd.DataFrame([[value]], columns=['Total Hydro'], index=[date[i]])\n",
        "    df_hydro = pd.concat([df_hydro, row])\n",
        "    df_hydro = df_hydro.rename(index={wanted_index[len(wanted_index)-1]: date[i]})\n",
        "\n",
        "    #Lignite\n",
        "    substring = 'ΣΥΝΟΛΟ ΛΙΓΝΙΤΙΚΩΝ'\n",
        "    filtered = df2[df2.apply(lambda row: row.astype(str).str.contains(substring, case=False).any(), axis=1)]\n",
        "    wanted_index = filtered.index.tolist()\n",
        "\n",
        "    if not wanted_index:\n",
        "        substring = 'TOTAL LIGNITE'\n",
        "        filtered = df2[df2.apply(lambda row: row.astype(str).str.contains(substring, case=False).any(), axis=1)]\n",
        "        wanted_index = filtered.index.tolist()\n",
        "\n",
        "    value = df2.iloc[wanted_index[len(wanted_index)-1],26]\n",
        "    row = pd.DataFrame([[value]], columns=['Total Lignite in MWh'], index=[date[i]])\n",
        "\n",
        "    df_lignite = pd.concat([df_lignite, row])\n",
        "    df_lignite = df_lignite.rename(index={wanted_index[len(wanted_index)-1]: date[i]})\n",
        "\n",
        "    #Gas\n",
        "    substring = 'ΣΥΝΟΛΟ Φ. ΑΕΡΙΟΥ'\n",
        "    filtered = df2[df2.apply(lambda row: row.astype(str).str.contains(substring, case=False).any(), axis=1)]\n",
        "    wanted_index = filtered.index.tolist()\n",
        "\n",
        "    if not wanted_index:\n",
        "        substring = 'TOTAL GAS'\n",
        "        filtered = df2[df2.apply(lambda row: row.astype(str).str.contains(substring, case=False).any(), axis=1)]\n",
        "        wanted_index = filtered.index.tolist()\n",
        "\n",
        "    value = df2.iloc[wanted_index[len(wanted_index)-1],26]\n",
        "    row = pd.DataFrame([[value]], columns=['Total Gas'], index=[date[i]])\n",
        "\n",
        "    df_gas = pd.concat([df_gas, row])\n",
        "    df_gas = df_gas.rename(index={wanted_index[len(wanted_index)-1]: date[i]})\n",
        "\n",
        "    #RES\n",
        "    substring = 'TOTAL RES'\n",
        "    filtered = df2[df2.apply(lambda row: row.astype(str).str.contains(substring, case=False).any(), axis=1)]\n",
        "    wanted_index = filtered.index.tolist()\n",
        "\n",
        "    if not wanted_index:\n",
        "        substring = 'ΣΥΝΟΛΟ ΑΙΟΛΙΚΩΝ'\n",
        "        filtered = df2[df2.apply(lambda row: row.astype(str).str.contains(substring, case=False).any(), axis=1)]\n",
        "        wanted_index = filtered.index.tolist()\n",
        "\n",
        "    value = df2.iloc[wanted_index[len(wanted_index)-1],26]\n",
        "    row = pd.DataFrame([[value]], columns=['Total RES'], index=[date[i]])\n",
        "\n",
        "    df_res = pd.concat([df_res, row])\n",
        "    df_res = df_res.rename(index={wanted_index[len(wanted_index)-1]: date[i]})\n",
        "\n",
        "    #Interconections\n",
        "    substring = 'EXPORTS-IMPORTS'\n",
        "    filtered = df2[df2.apply(lambda row: row.astype(str).str.contains(substring, case=False).any(), axis=1)]\n",
        "    wanted_index = filtered.index.tolist()\n",
        "\n",
        "    if not wanted_index:\n",
        "        substring = 'ΚΑΘΑΡΟ ΔΙΑΣΥΝΔΕΣΕΩΝ'\n",
        "        filtered = df2[df2.apply(lambda row: row.astype(str).str.contains(substring, case=False).any(), axis=1)]\n",
        "        wanted_index = filtered.index.tolist()\n",
        "\n",
        "    value = df2.iloc[wanted_index[len(wanted_index)-1],26]\n",
        "    row = pd.DataFrame([[value]], columns=['Exports - Imports'], index=[date[i]])\n",
        "\n",
        "    df_inter = pd.concat([df_inter, row])\n",
        "    df_inter = df_inter.rename(index={wanted_index[len(wanted_index)-1]: date[i]})\n",
        "    #Net Load\n",
        "    substring = 'NET LOAD'\n",
        "    filtered = df2[df2.apply(lambda row: row.astype(str).str.contains(substring, case=False).any(), axis=1)]\n",
        "    wanted_index = filtered.index.tolist()\n",
        "\n",
        "    if not wanted_index:\n",
        "        substring = 'ΚΑΘΑΡΟ ΦΟΡΤΙΟ'\n",
        "        filtered = df2[df2.apply(lambda row: row.astype(str).str.contains(substring, case=False).any(), axis=1)]\n",
        "        wanted_index = filtered.index.tolist()\n",
        "\n",
        "    value = df2.iloc[wanted_index[len(wanted_index)-1],26]\n",
        "    row = pd.DataFrame([[value]], columns=['Total Net Load'], index=[date[i]])\n",
        "\n",
        "    df_net_load = pd.concat([df_net_load, row])\n",
        "    df_net_load = df_net_load.rename(index={wanted_index[len(wanted_index)-1]: date[i]})\n"
      ]
    },
    {
      "cell_type": "markdown",
      "source": [
        "##Save the data for 2021\n",
        "\n"
      ],
      "metadata": {
        "id": "jMZqMZqI7AhY"
      }
    },
    {
      "cell_type": "markdown",
      "metadata": {
        "id": "pu_OSjF57Ahn"
      },
      "source": [
        "##Drop duplicates\n"
      ]
    },
    {
      "cell_type": "code",
      "execution_count": null,
      "metadata": {
        "colab": {
          "base_uri": "https://localhost:8080/"
        },
        "outputId": "975b6a5a-85c3-4277-a3c2-438fa89fd77d",
        "id": "IbFNznZw7Ahn"
      },
      "outputs": [
        {
          "output_type": "stream",
          "name": "stderr",
          "text": [
            "<ipython-input-24-5932f93a05b3>:4: SettingWithCopyWarning: \n",
            "A value is trying to be set on a copy of a slice from a DataFrame\n",
            "\n",
            "See the caveats in the documentation: https://pandas.pydata.org/pandas-docs/stable/user_guide/indexing.html#returning-a-view-versus-a-copy\n",
            "  df_res.drop(['index'], axis = 1, inplace = True)\n",
            "<ipython-input-24-5932f93a05b3>:9: SettingWithCopyWarning: \n",
            "A value is trying to be set on a copy of a slice from a DataFrame\n",
            "\n",
            "See the caveats in the documentation: https://pandas.pydata.org/pandas-docs/stable/user_guide/indexing.html#returning-a-view-versus-a-copy\n",
            "  df_hydro.drop(['index'], axis = 1, inplace = True)\n",
            "<ipython-input-24-5932f93a05b3>:14: SettingWithCopyWarning: \n",
            "A value is trying to be set on a copy of a slice from a DataFrame\n",
            "\n",
            "See the caveats in the documentation: https://pandas.pydata.org/pandas-docs/stable/user_guide/indexing.html#returning-a-view-versus-a-copy\n",
            "  df_lignite.drop(['index'], axis = 1, inplace = True)\n",
            "<ipython-input-24-5932f93a05b3>:24: SettingWithCopyWarning: \n",
            "A value is trying to be set on a copy of a slice from a DataFrame\n",
            "\n",
            "See the caveats in the documentation: https://pandas.pydata.org/pandas-docs/stable/user_guide/indexing.html#returning-a-view-versus-a-copy\n",
            "  df_gas.drop(['index'], axis = 1, inplace = True)\n"
          ]
        }
      ],
      "source": [
        "#RES\n",
        "df_res['index'] = df_res.index\n",
        "df_res = df_res.drop_duplicates(subset='index')\n",
        "df_res.drop(['index'], axis = 1, inplace = True)\n",
        "\n",
        "#HYDRO\n",
        "df_hydro['index'] = df_hydro.index\n",
        "df_hydro = df_hydro.drop_duplicates(subset='index')\n",
        "df_hydro.drop(['index'], axis = 1, inplace = True)\n",
        "\n",
        "#LIGNITE\n",
        "df_lignite['index'] = df_lignite.index\n",
        "df_lignite = df_lignite.drop_duplicates(subset='index')\n",
        "df_lignite.drop(['index'], axis = 1, inplace = True)\n",
        "\n",
        "#NET LOAD\n",
        "df_net_load['index'] = df_net_load.index\n",
        "df_net_load = df_net_load.drop_duplicates(subset='index')\n",
        "df_net_load.drop(['index'], axis = 1, inplace = True)\n",
        "\n",
        "#GAS\n",
        "df_gas['index'] = df_gas.index\n",
        "df_gas = df_gas.drop_duplicates(subset='index')\n",
        "df_gas.drop(['index'], axis = 1, inplace = True)\n",
        "\n",
        "#GAS\n",
        "df_inter['index'] = df_inter.index\n",
        "df_inter = df_inter.drop_duplicates(subset='index')\n",
        "df_inter.drop(['index'], axis = 1, inplace = True)"
      ]
    },
    {
      "cell_type": "markdown",
      "metadata": {
        "id": "Y9mosJ2q7Aho"
      },
      "source": [
        "##Indexes"
      ]
    },
    {
      "cell_type": "code",
      "execution_count": null,
      "metadata": {
        "id": "880h0UJW7Aho"
      },
      "outputs": [],
      "source": [
        "df_gas.index = df_gas.index.str[8:]\n",
        "df_hydro.index = df_hydro.index.str[8:]\n",
        "df_lignite.index = df_lignite.index.str[8:]\n",
        "df_net_load.index = df_net_load.index.str[8:]\n",
        "df_res.index = df_res.index.str[8:]\n",
        "df_inter.index = df_inter.index.str[8:]"
      ]
    },
    {
      "cell_type": "markdown",
      "metadata": {
        "id": "F5NmUH4A7Aho"
      },
      "source": [
        "##Datetime format"
      ]
    },
    {
      "cell_type": "code",
      "execution_count": null,
      "metadata": {
        "id": "P3PuPnrJ7Aho"
      },
      "outputs": [],
      "source": [
        "df_res.index = pd.to_datetime(df_res.index, format='%Y/%m/%d')\n",
        "df_lignite.index = pd.to_datetime(df_lignite.index, format='%Y/%m/%d')\n",
        "df_net_load.index = pd.to_datetime(df_net_load.index, format='%Y/%m/%d')\n",
        "df_hydro.index = pd.to_datetime(df_hydro.index, format='%Y/%m/%d')\n",
        "df_gas.index = pd.to_datetime(df_gas.index, format='%Y/%m/%d')\n",
        "df_inter.index = pd.to_datetime(df_inter.index, format= '%Y/%m/%d')"
      ]
    },
    {
      "cell_type": "markdown",
      "source": [
        "##Save to drive\n"
      ],
      "metadata": {
        "id": "Zrs5743K7Aho"
      }
    },
    {
      "cell_type": "code",
      "source": [
        "df_gas.to_csv('gas_2021.csv')\n",
        "!cp gas_2021.csv \"drive/My Drive/\""
      ],
      "metadata": {
        "id": "dU3fOR2P7Aho"
      },
      "execution_count": null,
      "outputs": []
    },
    {
      "cell_type": "code",
      "source": [
        "df_res.to_csv('res_2021.csv')\n",
        "!cp res_2021.csv \"drive/My Drive/\""
      ],
      "metadata": {
        "id": "RzDKHbVk7Ahp"
      },
      "execution_count": null,
      "outputs": []
    },
    {
      "cell_type": "code",
      "source": [
        "df_lignite.to_csv('lignite_2021.csv')\n",
        "!cp lignite_2021.csv \"drive/My Drive/\""
      ],
      "metadata": {
        "id": "SFFXh9_K7Ahp"
      },
      "execution_count": null,
      "outputs": []
    },
    {
      "cell_type": "code",
      "source": [
        "df_net_load.to_csv('net_load_2021.csv')\n",
        "!cp net_load_2021.csv \"drive/My Drive/\""
      ],
      "metadata": {
        "id": "lEXyxxrb7Ahp"
      },
      "execution_count": null,
      "outputs": []
    },
    {
      "cell_type": "code",
      "source": [
        "df_hydro.to_csv('hydro_2021.csv')\n",
        "!cp hydro_2021.csv \"drive/My Drive/\""
      ],
      "metadata": {
        "id": "SQCBTFJF7Ahp"
      },
      "execution_count": null,
      "outputs": []
    },
    {
      "cell_type": "code",
      "source": [
        "df_inter.to_csv('inter_2021.csv')\n",
        "!cp inter_2021.csv \"drive/My Drive/\""
      ],
      "metadata": {
        "id": "g1ma44uV7Ahp"
      },
      "execution_count": null,
      "outputs": []
    },
    {
      "cell_type": "markdown",
      "metadata": {
        "id": "YGAGLkO0JzBT"
      },
      "source": [
        "#Preliminaries"
      ]
    },
    {
      "cell_type": "code",
      "execution_count": null,
      "metadata": {
        "id": "2pyD1yvfJzBh"
      },
      "outputs": [],
      "source": [
        "# Initialize an empty DataFrame\n",
        "#df = pd.DataFrame()\n",
        "#df_not_found = pd.DataFrame()\n",
        "df_hydro = pd.DataFrame()\n",
        "df_lignite = pd.DataFrame()\n",
        "df_net_load = pd.DataFrame()\n",
        "df_gas = pd.DataFrame()\n",
        "df_res = pd.DataFrame()\n",
        "df_inter = pd.DataFrame()"
      ]
    },
    {
      "cell_type": "markdown",
      "metadata": {
        "id": "wGTCp1K0Yk-J"
      },
      "source": [
        "#2022"
      ]
    },
    {
      "cell_type": "code",
      "execution_count": null,
      "metadata": {
        "id": "gcdgPc4KYutz"
      },
      "outputs": [],
      "source": [
        "#Manualy change the dates because if loaded all the system will crush\n",
        "start_date = datetime(2022, 1, 1)\n",
        "end_date = datetime(2022, 12, 31)\n",
        "date_format = \"%Y/%m/%Y%m%d\"\n",
        "current_date = start_date"
      ]
    },
    {
      "cell_type": "code",
      "execution_count": null,
      "metadata": {
        "id": "DZddV-CgYut1",
        "colab": {
          "base_uri": "https://localhost:8080/"
        },
        "outputId": "84334009-bb92-4af5-a314-8f9f4d99beb3"
      },
      "outputs": [
        {
          "output_type": "stream",
          "name": "stdout",
          "text": [
            "Error accessing URL: https://www.admie.gr/sites/default/files/attached-files/type-file/2022/01/20220131_SystemRealizationSCADA_01.xls\n",
            "Error accessing URL: https://www.admie.gr/sites/default/files/attached-files/type-file/2022/02/20220228_SystemRealizationSCADA_01.xls\n",
            "Error accessing URL: https://www.admie.gr/sites/default/files/attached-files/type-file/2022/03/20220331_SystemRealizationSCADA_01.xls\n",
            "Error accessing URL: https://www.admie.gr/sites/default/files/attached-files/type-file/2022/04/20220430_SystemRealizationSCADA_01.xls\n",
            "Error accessing URL: https://www.admie.gr/sites/default/files/attached-files/type-file/2022/05/20220531_SystemRealizationSCADA_01.xls\n",
            "Error accessing URL: https://www.admie.gr/sites/default/files/attached-files/type-file/2022/06/20220630_SystemRealizationSCADA_01.xls\n",
            "Error accessing URL: https://www.admie.gr/sites/default/files/attached-files/type-file/2022/07/20220731_SystemRealizationSCADA_01.xls\n",
            "Error accessing URL: https://www.admie.gr/sites/default/files/attached-files/type-file/2022/08/20220831_SystemRealizationSCADA_01.xls\n",
            "Error accessing URL: https://www.admie.gr/sites/default/files/attached-files/type-file/2022/09/20220930_SystemRealizationSCADA_01.xls\n",
            "Error accessing URL: https://www.admie.gr/sites/default/files/attached-files/type-file/2022/10/20221031_SystemRealizationSCADA_01.xls\n",
            "Error accessing URL: https://www.admie.gr/sites/default/files/attached-files/type-file/2022/11/20221130_SystemRealizationSCADA_01.xls\n",
            "Error accessing URL: https://www.admie.gr/sites/default/files/attached-files/type-file/2022/12/20221231_SystemRealizationSCADA_01.xls\n"
          ]
        }
      ],
      "source": [
        "while current_date <= end_date:\n",
        "    date_str = current_date.strftime(date_format)\n",
        "    url = f\"{base_url}{date_str}_SystemRealizationSCADA_01.xls\"\n",
        "\n",
        "    try:\n",
        "        # Read the XLSX file into a pandas DataFrame\n",
        "        df1 = pd.read_excel(url, sheet_name=\"System_Production\", converters={'(ΣΤΟΙΧΕΙΑ SCADA ΜΗ-ΠΙΣΤΟΠΟΙΗΜΕΝΑ)':str})\n",
        "        #Hydro\n",
        "        substring = 'ΣΥΝΟΛΟ ΥΔΡΟΗΛΕΚΤΡΙΚΩΝ'\n",
        "        filtered = df1[df1.apply(lambda row: row.astype(str).str.contains(substring, case=False).any(), axis=1)]\n",
        "        wanted_index = filtered.index.tolist()\n",
        "\n",
        "        if not wanted_index:\n",
        "            substring = 'TOTAL HYDRO'\n",
        "            filtered = df1[df1.apply(lambda row: row.astype(str).str.contains(substring, case=False).any(), axis=1)]\n",
        "            wanted_index = filtered.index.tolist()\n",
        "\n",
        "        value = df1.iloc[wanted_index[len(wanted_index)-1],26]\n",
        "        row = pd.DataFrame([[value]], columns=['Total Hydro'], index=[date_str])\n",
        "        df_hydro = pd.concat([df_hydro, row])\n",
        "        df_hydro = df_hydro.rename(index={wanted_index[len(wanted_index)-1]: date_str})\n",
        "\n",
        "        #Lignite\n",
        "        substring = 'ΣΥΝΟΛΟ ΛΙΓΝΙΤΙΚΩΝ'\n",
        "        filtered = df1[df1.apply(lambda row: row.astype(str).str.contains(substring, case=False).any(), axis=1)]\n",
        "        wanted_index = filtered.index.tolist()\n",
        "\n",
        "        if not wanted_index:\n",
        "            substring = 'TOTAL LIGNITE'\n",
        "            filtered = df1[df1.apply(lambda row: row.astype(str).str.contains(substring, case=False).any(), axis=1)]\n",
        "            wanted_index = filtered.index.tolist()\n",
        "\n",
        "        value = df1.iloc[wanted_index[len(wanted_index)-1],26]\n",
        "        row = pd.DataFrame([[value]], columns=['Total Lignite in MWh'], index=[date_str])\n",
        "\n",
        "        df_lignite = pd.concat([df_lignite, row])\n",
        "        df_lignite = df_lignite.rename(index={wanted_index[len(wanted_index)-1]: date_str})\n",
        "\n",
        "        #Gas\n",
        "        substring = 'ΣΥΝΟΛΟ Φ. ΑΕΡΙΟΥ'\n",
        "        filtered = df1[df1.apply(lambda row: row.astype(str).str.contains(substring, case=False).any(), axis=1)]\n",
        "        wanted_index = filtered.index.tolist()\n",
        "\n",
        "        if not wanted_index:\n",
        "            substring = 'TOTAL GAS'\n",
        "            filtered = df1[df1.apply(lambda row: row.astype(str).str.contains(substring, case=False).any(), axis=1)]\n",
        "            wanted_index = filtered.index.tolist()\n",
        "\n",
        "        value = df1.iloc[wanted_index[len(wanted_index)-1],26]\n",
        "        row = pd.DataFrame([[value]], columns=['Total Gas'], index=[date_str])\n",
        "\n",
        "        df_gas = pd.concat([df_gas, row])\n",
        "        df_gas = df_gas.rename(index={wanted_index[len(wanted_index)-1]: date_str})\n",
        "\n",
        "\n",
        "        #RES\n",
        "        substring = 'TOTAL RES'\n",
        "        filtered = df1[df1.apply(lambda row: row.astype(str).str.contains(substring, case=False).any(), axis=1)]\n",
        "        wanted_index = filtered.index.tolist()\n",
        "\n",
        "        if not wanted_index:\n",
        "            substring = 'ΣΥΝΟΛΟ ΑΙΟΛΙΚΩΝ'\n",
        "            filtered = df1[df1.apply(lambda row: row.astype(str).str.contains(substring, case=False).any(), axis=1)]\n",
        "            wanted_index = filtered.index.tolist()\n",
        "\n",
        "        value = df1.iloc[wanted_index[len(wanted_index)-1],26]\n",
        "        row = pd.DataFrame([[value]], columns=['Total RES'], index=[date_str])\n",
        "\n",
        "        df_res = pd.concat([df_res, row])\n",
        "        df_res = df_res.rename(index={wanted_index[len(wanted_index)-1]: date_str})\n",
        "\n",
        "\n",
        "        #Interconections\n",
        "        substring = 'EXPORTS-IMPORTS'\n",
        "        filtered = df1[df1.apply(lambda row: row.astype(str).str.contains(substring, case=False).any(), axis=1)]\n",
        "        wanted_index = filtered.index.tolist()\n",
        "\n",
        "        if not wanted_index:\n",
        "            substring = 'ΚΑΘΑΡΟ ΔΙΑΣΥΝΔΕΣΕΩΝ'\n",
        "            filtered = df1[df1.apply(lambda row: row.astype(str).str.contains(substring, case=False).any(), axis=1)]\n",
        "            wanted_index = filtered.index.tolist()\n",
        "\n",
        "        value = df1.iloc[wanted_index[len(wanted_index)-1],26]\n",
        "        row = pd.DataFrame([[value]], columns=['Exports - Imports'], index=[date_str])\n",
        "\n",
        "        df_inter = pd.concat([df_inter, row])\n",
        "        df_inter = df_inter.rename(index={wanted_index[len(wanted_index)-1]: date_str})\n",
        "\n",
        "\n",
        "        #Net Load\n",
        "        substring = 'NET LOAD'\n",
        "        filtered = df1[df1.apply(lambda row: row.astype(str).str.contains(substring, case=False).any(), axis=1)]\n",
        "        wanted_index = filtered.index.tolist()\n",
        "\n",
        "        if not wanted_index:\n",
        "            substring = 'ΚΑΘΑΡΟ ΦΟΡΤΙΟ'\n",
        "            filtered = df1[df1.apply(lambda row: row.astype(str).str.contains(substring, case=False).any(), axis=1)]\n",
        "            wanted_index = filtered.index.tolist()\n",
        "\n",
        "        value = df1.iloc[wanted_index[len(wanted_index)-1],26]\n",
        "        row = pd.DataFrame([[value]], columns=['Total Net Load'], index=[date_str])\n",
        "\n",
        "        df_net_load = pd.concat([df_net_load, row])\n",
        "        df_net_load = df_net_load.rename(index={wanted_index[len(wanted_index)-1]: date_str})\n",
        "    except HTTPError as e:\n",
        "        print(f\"Error accessing URL: {url}\")\n",
        "        #print(e)\n",
        "\n",
        "\n",
        "    # Increment to the next date\n",
        "    current_date += timedelta(days=1)"
      ]
    },
    {
      "cell_type": "code",
      "execution_count": null,
      "metadata": {
        "id": "W5-aEgIPYut2"
      },
      "outputs": [],
      "source": [
        "\n",
        "url1 = \"https://www.admie.gr/sites/default/files/attached-files/type-file/2022/02/20220131_SystemRealizationSCADA_01.xls\"\n",
        "url2 = \"https://www.admie.gr/sites/default/files/attached-files/type-file/2022/03/20220228_SystemRealizationSCADA_01.xls\"\n",
        "url3 = \"https://www.admie.gr/sites/default/files/attached-files/type-file/2022/04/20220331_SystemRealizationSCADA_01.xls\"\n",
        "url4 = \"https://www.admie.gr/sites/default/files/attached-files/type-file/2022/05/20220430_SystemRealizationSCADA_01.xls\"\n",
        "url5 = \"https://www.admie.gr/sites/default/files/attached-files/type-file/2022/06/20220531_SystemRealizationSCADA_01.xls\"\n",
        "url6 = \"https://www.admie.gr/sites/default/files/attached-files/type-file/2022/07/20220630_SystemRealizationSCADA_01.xls\"\n",
        "url7 = \"https://www.admie.gr/sites/default/files/attached-files/type-file/2022/08/20220731_SystemRealizationSCADA_01.xls\"\n",
        "url8 = \"https://www.admie.gr/sites/default/files/attached-files/type-file/2022/09/20220831_SystemRealizationSCADA_01.xls\"\n",
        "url9 = \"https://www.admie.gr/sites/default/files/attached-files/type-file/2022/10/20220930_SystemRealizationSCADA_01.xls\"\n",
        "url10 = \"https://www.admie.gr/sites/default/files/attached-files/type-file/2022/11/20221031_SystemRealizationSCADA_01.xls\"\n",
        "url11 = \"https://www.admie.gr/sites/default/files/attached-files/type-file/2022/12/20221130_SystemRealizationSCADA_01.xls\"\n",
        "url12 = \"https://www.admie.gr/sites/default/files/attached-files/type-file/2023/01/20221231_SystemRealizationSCADA_01.xls\"\n",
        "url = [url1, url2, url3, url4, url5, url6, url7, url8, url9, url10, url11, url12]\n",
        "date = {url1: '2020/07/20220131', #June\n",
        "        url2: '2020/07/20220228', #July\n",
        "        url3: '2020/07/20220331', #August\n",
        "        url4: '2020/07/20220430', #September\n",
        "        url5: '2020/07/20220531', #Octomber\n",
        "        url6: '2020/07/20220630', #June\n",
        "        url7: '2020/07/20220731', #July\n",
        "        url8: '2020/07/20220831', #August\n",
        "        url9: '2020/07/20220930', #September\n",
        "        url10: '2020/07/20221031', #Octomber\n",
        "        url11: '2020/07/20221130', #November\n",
        "        url12: '2020/07/20221031' #December\n",
        "}"
      ]
    },
    {
      "cell_type": "code",
      "execution_count": null,
      "metadata": {
        "id": "RHMVRz32Yut2"
      },
      "outputs": [],
      "source": [
        "for i in url:\n",
        "    df2 = pd.read_excel(i, sheet_name=\"System_Production\", converters={'(ΣΤΟΙΧΕΙΑ SCADA ΜΗ-ΠΙΣΤΟΠΟΙΗΜΕΝΑ)':str})\n",
        "    #Hydro\n",
        "    substring = 'ΣΥΝΟΛΟ ΥΔΡΟΗΛΕΚΤΡΙΚΩΝ'\n",
        "    filtered = df2[df2.apply(lambda row: row.astype(str).str.contains(substring, case=False).any(), axis=1)]\n",
        "    wanted_index = filtered.index.tolist()\n",
        "\n",
        "    if not wanted_index:\n",
        "        substring = 'TOTAL HYDRO'\n",
        "        filtered = df2[df2.apply(lambda row: row.astype(str).str.contains(substring, case=False).any(), axis=1)]\n",
        "        wanted_index = filtered.index.tolist()\n",
        "\n",
        "    value = df2.iloc[wanted_index[len(wanted_index)-1],26]\n",
        "    row = pd.DataFrame([[value]], columns=['Total Hydro'], index=[date[i]])\n",
        "    df_hydro = pd.concat([df_hydro, row])\n",
        "    df_hydro = df_hydro.rename(index={wanted_index[len(wanted_index)-1]: date[i]})\n",
        "\n",
        "    #Lignite\n",
        "    substring = 'ΣΥΝΟΛΟ ΛΙΓΝΙΤΙΚΩΝ'\n",
        "    filtered = df2[df2.apply(lambda row: row.astype(str).str.contains(substring, case=False).any(), axis=1)]\n",
        "    wanted_index = filtered.index.tolist()\n",
        "\n",
        "    if not wanted_index:\n",
        "        substring = 'TOTAL LIGNITE'\n",
        "        filtered = df2[df2.apply(lambda row: row.astype(str).str.contains(substring, case=False).any(), axis=1)]\n",
        "        wanted_index = filtered.index.tolist()\n",
        "\n",
        "    value = df2.iloc[wanted_index[len(wanted_index)-1],26]\n",
        "    row = pd.DataFrame([[value]], columns=['Total Lignite in MWh'], index=[date[i]])\n",
        "\n",
        "    df_lignite = pd.concat([df_lignite, row])\n",
        "    df_lignite = df_lignite.rename(index={wanted_index[len(wanted_index)-1]: date[i]})\n",
        "\n",
        "    #Gas\n",
        "    substring = 'ΣΥΝΟΛΟ Φ. ΑΕΡΙΟΥ'\n",
        "    filtered = df2[df2.apply(lambda row: row.astype(str).str.contains(substring, case=False).any(), axis=1)]\n",
        "    wanted_index = filtered.index.tolist()\n",
        "\n",
        "    if not wanted_index:\n",
        "        substring = 'TOTAL GAS'\n",
        "        filtered = df2[df2.apply(lambda row: row.astype(str).str.contains(substring, case=False).any(), axis=1)]\n",
        "        wanted_index = filtered.index.tolist()\n",
        "\n",
        "    value = df2.iloc[wanted_index[len(wanted_index)-1],26]\n",
        "    row = pd.DataFrame([[value]], columns=['Total Gas'], index=[date[i]])\n",
        "\n",
        "    df_gas = pd.concat([df_gas, row])\n",
        "    df_gas = df_gas.rename(index={wanted_index[len(wanted_index)-1]: date[i]})\n",
        "\n",
        "    #RES\n",
        "    substring = 'TOTAL RES'\n",
        "    filtered = df2[df2.apply(lambda row: row.astype(str).str.contains(substring, case=False).any(), axis=1)]\n",
        "    wanted_index = filtered.index.tolist()\n",
        "\n",
        "    if not wanted_index:\n",
        "        substring = 'ΣΥΝΟΛΟ ΑΙΟΛΙΚΩΝ'\n",
        "        filtered = df2[df2.apply(lambda row: row.astype(str).str.contains(substring, case=False).any(), axis=1)]\n",
        "        wanted_index = filtered.index.tolist()\n",
        "\n",
        "    value = df2.iloc[wanted_index[len(wanted_index)-1],26]\n",
        "    row = pd.DataFrame([[value]], columns=['Total RES'], index=[date[i]])\n",
        "\n",
        "    df_res = pd.concat([df_res, row])\n",
        "    df_res = df_res.rename(index={wanted_index[len(wanted_index)-1]: date[i]})\n",
        "\n",
        "    #Interconections\n",
        "    substring = 'EXPORTS-IMPORTS'\n",
        "    filtered = df2[df2.apply(lambda row: row.astype(str).str.contains(substring, case=False).any(), axis=1)]\n",
        "    wanted_index = filtered.index.tolist()\n",
        "\n",
        "    if not wanted_index:\n",
        "        substring = 'ΚΑΘΑΡΟ ΔΙΑΣΥΝΔΕΣΕΩΝ'\n",
        "        filtered = df2[df2.apply(lambda row: row.astype(str).str.contains(substring, case=False).any(), axis=1)]\n",
        "        wanted_index = filtered.index.tolist()\n",
        "\n",
        "    value = df2.iloc[wanted_index[len(wanted_index)-1],26]\n",
        "    row = pd.DataFrame([[value]], columns=['Exports - Imports'], index=[date[i]])\n",
        "\n",
        "    df_inter = pd.concat([df_inter, row])\n",
        "    df_inter = df_inter.rename(index={wanted_index[len(wanted_index)-1]: date[i]})\n",
        "    #Net Load\n",
        "    substring = 'NET LOAD'\n",
        "    filtered = df2[df2.apply(lambda row: row.astype(str).str.contains(substring, case=False).any(), axis=1)]\n",
        "    wanted_index = filtered.index.tolist()\n",
        "\n",
        "    if not wanted_index:\n",
        "        substring = 'ΚΑΘΑΡΟ ΦΟΡΤΙΟ'\n",
        "        filtered = df2[df2.apply(lambda row: row.astype(str).str.contains(substring, case=False).any(), axis=1)]\n",
        "        wanted_index = filtered.index.tolist()\n",
        "\n",
        "    value = df2.iloc[wanted_index[len(wanted_index)-1],26]\n",
        "    row = pd.DataFrame([[value]], columns=['Total Net Load'], index=[date[i]])\n",
        "\n",
        "    df_net_load = pd.concat([df_net_load, row])\n",
        "    df_net_load = df_net_load.rename(index={wanted_index[len(wanted_index)-1]: date[i]})\n"
      ]
    },
    {
      "cell_type": "markdown",
      "metadata": {
        "id": "THnjm4siIoNW"
      },
      "source": [
        "##Drop duplicates\n"
      ]
    },
    {
      "cell_type": "code",
      "execution_count": null,
      "metadata": {
        "colab": {
          "base_uri": "https://localhost:8080/"
        },
        "outputId": "53f1d9d0-247f-4beb-d7a7-5e65c71369d4",
        "id": "m4DcjtwUIoNX"
      },
      "outputs": [
        {
          "output_type": "stream",
          "name": "stderr",
          "text": [
            "<ipython-input-38-5932f93a05b3>:4: SettingWithCopyWarning: \n",
            "A value is trying to be set on a copy of a slice from a DataFrame\n",
            "\n",
            "See the caveats in the documentation: https://pandas.pydata.org/pandas-docs/stable/user_guide/indexing.html#returning-a-view-versus-a-copy\n",
            "  df_res.drop(['index'], axis = 1, inplace = True)\n",
            "<ipython-input-38-5932f93a05b3>:9: SettingWithCopyWarning: \n",
            "A value is trying to be set on a copy of a slice from a DataFrame\n",
            "\n",
            "See the caveats in the documentation: https://pandas.pydata.org/pandas-docs/stable/user_guide/indexing.html#returning-a-view-versus-a-copy\n",
            "  df_hydro.drop(['index'], axis = 1, inplace = True)\n",
            "<ipython-input-38-5932f93a05b3>:14: SettingWithCopyWarning: \n",
            "A value is trying to be set on a copy of a slice from a DataFrame\n",
            "\n",
            "See the caveats in the documentation: https://pandas.pydata.org/pandas-docs/stable/user_guide/indexing.html#returning-a-view-versus-a-copy\n",
            "  df_lignite.drop(['index'], axis = 1, inplace = True)\n",
            "<ipython-input-38-5932f93a05b3>:24: SettingWithCopyWarning: \n",
            "A value is trying to be set on a copy of a slice from a DataFrame\n",
            "\n",
            "See the caveats in the documentation: https://pandas.pydata.org/pandas-docs/stable/user_guide/indexing.html#returning-a-view-versus-a-copy\n",
            "  df_gas.drop(['index'], axis = 1, inplace = True)\n",
            "<ipython-input-38-5932f93a05b3>:29: SettingWithCopyWarning: \n",
            "A value is trying to be set on a copy of a slice from a DataFrame\n",
            "\n",
            "See the caveats in the documentation: https://pandas.pydata.org/pandas-docs/stable/user_guide/indexing.html#returning-a-view-versus-a-copy\n",
            "  df_inter.drop(['index'], axis = 1, inplace = True)\n"
          ]
        }
      ],
      "source": [
        "#RES\n",
        "df_res['index'] = df_res.index\n",
        "df_res = df_res.drop_duplicates(subset='index')\n",
        "df_res.drop(['index'], axis = 1, inplace = True)\n",
        "\n",
        "#HYDRO\n",
        "df_hydro['index'] = df_hydro.index\n",
        "df_hydro = df_hydro.drop_duplicates(subset='index')\n",
        "df_hydro.drop(['index'], axis = 1, inplace = True)\n",
        "\n",
        "#LIGNITE\n",
        "df_lignite['index'] = df_lignite.index\n",
        "df_lignite = df_lignite.drop_duplicates(subset='index')\n",
        "df_lignite.drop(['index'], axis = 1, inplace = True)\n",
        "\n",
        "#NET LOAD\n",
        "df_net_load['index'] = df_net_load.index\n",
        "df_net_load = df_net_load.drop_duplicates(subset='index')\n",
        "df_net_load.drop(['index'], axis = 1, inplace = True)\n",
        "\n",
        "#GAS\n",
        "df_gas['index'] = df_gas.index\n",
        "df_gas = df_gas.drop_duplicates(subset='index')\n",
        "df_gas.drop(['index'], axis = 1, inplace = True)\n",
        "\n",
        "#GAS\n",
        "df_inter['index'] = df_inter.index\n",
        "df_inter = df_inter.drop_duplicates(subset='index')\n",
        "df_inter.drop(['index'], axis = 1, inplace = True)"
      ]
    },
    {
      "cell_type": "markdown",
      "metadata": {
        "id": "j0VC8QXWIoNX"
      },
      "source": [
        "##Indexes"
      ]
    },
    {
      "cell_type": "code",
      "execution_count": null,
      "metadata": {
        "id": "Ud-pjF0rIoNY"
      },
      "outputs": [],
      "source": [
        "df_gas.index = df_gas.index.str[8:]\n",
        "df_hydro.index = df_hydro.index.str[8:]\n",
        "df_lignite.index = df_lignite.index.str[8:]\n",
        "df_net_load.index = df_net_load.index.str[8:]\n",
        "df_res.index = df_res.index.str[8:]\n",
        "df_inter.index = df_inter.index.str[8:]"
      ]
    },
    {
      "cell_type": "markdown",
      "metadata": {
        "id": "5QDid95RIoNY"
      },
      "source": [
        "##Datetime format"
      ]
    },
    {
      "cell_type": "code",
      "execution_count": null,
      "metadata": {
        "id": "G8v0zhcFIoNY"
      },
      "outputs": [],
      "source": [
        "df_res.index = pd.to_datetime(df_res.index, format='%Y/%m/%d')\n",
        "df_lignite.index = pd.to_datetime(df_lignite.index, format='%Y/%m/%d')\n",
        "df_net_load.index = pd.to_datetime(df_net_load.index, format='%Y/%m/%d')\n",
        "df_hydro.index = pd.to_datetime(df_hydro.index, format='%Y/%m/%d')\n",
        "df_gas.index = pd.to_datetime(df_gas.index, format='%Y/%m/%d')\n",
        "df_inter.index = pd.to_datetime(df_inter.index, format= '%Y/%m/%d')"
      ]
    },
    {
      "cell_type": "markdown",
      "source": [
        "##Save to drive\n"
      ],
      "metadata": {
        "id": "4XFpbTKbI6r1"
      }
    },
    {
      "cell_type": "code",
      "source": [
        "df_gas.to_csv('gas_2022.csv')\n",
        "!cp gas_2022.csv \"drive/My Drive/\""
      ],
      "metadata": {
        "id": "mbyMTfoNI6r2"
      },
      "execution_count": null,
      "outputs": []
    },
    {
      "cell_type": "code",
      "source": [
        "df_res.to_csv('res_2022.csv')\n",
        "!cp res_2022.csv \"drive/My Drive/\""
      ],
      "metadata": {
        "id": "7wjGmzt-I6r3"
      },
      "execution_count": null,
      "outputs": []
    },
    {
      "cell_type": "code",
      "source": [
        "df_lignite.to_csv('lignite_2022.csv')\n",
        "!cp lignite_2022.csv \"drive/My Drive/\""
      ],
      "metadata": {
        "id": "-wcWrzheI6r3"
      },
      "execution_count": null,
      "outputs": []
    },
    {
      "cell_type": "code",
      "source": [
        "df_net_load.to_csv('net_load_2022.csv')\n",
        "!cp net_load_2022.csv \"drive/My Drive/\""
      ],
      "metadata": {
        "id": "FzzvhQgRI6r3"
      },
      "execution_count": null,
      "outputs": []
    },
    {
      "cell_type": "code",
      "source": [
        "df_hydro.to_csv('hydro_2022.csv')\n",
        "!cp hydro_2022.csv \"drive/My Drive/\""
      ],
      "metadata": {
        "id": "XQGkJ7FoI6r4"
      },
      "execution_count": null,
      "outputs": []
    },
    {
      "cell_type": "code",
      "source": [
        "df_inter.to_csv('inter_2022.csv')\n",
        "!cp inter_2022.csv \"drive/My Drive/\""
      ],
      "metadata": {
        "id": "Gfrm4RjFI6r4"
      },
      "execution_count": null,
      "outputs": []
    },
    {
      "cell_type": "markdown",
      "metadata": {
        "id": "JOTXuKRhJ3mz"
      },
      "source": [
        "#Preliminaries"
      ]
    },
    {
      "cell_type": "code",
      "execution_count": null,
      "metadata": {
        "id": "_sZcRvM_J3nB"
      },
      "outputs": [],
      "source": [
        "# Initialize an empty DataFrame\n",
        "#df = pd.DataFrame()\n",
        "#df_not_found = pd.DataFrame()\n",
        "df_hydro = pd.DataFrame()\n",
        "df_lignite = pd.DataFrame()\n",
        "df_net_load = pd.DataFrame()\n",
        "df_gas = pd.DataFrame()\n",
        "df_res = pd.DataFrame()\n",
        "df_inter = pd.DataFrame()"
      ]
    },
    {
      "cell_type": "markdown",
      "metadata": {
        "id": "k_7moCnPY4eH"
      },
      "source": [
        "#2023"
      ]
    },
    {
      "cell_type": "code",
      "execution_count": null,
      "metadata": {
        "id": "hFrw_AtaY-dX"
      },
      "outputs": [],
      "source": [
        "#Manualy change the dates because if loaded all the system will crush\n",
        "start_date = datetime(2023, 1, 1)\n",
        "end_date = datetime(2023, 11, 1)\n",
        "date_format = \"%Y/%m/%Y%m%d\"\n",
        "current_date = start_date"
      ]
    },
    {
      "cell_type": "code",
      "execution_count": null,
      "metadata": {
        "id": "bPpX88NMY-dZ",
        "colab": {
          "base_uri": "https://localhost:8080/"
        },
        "outputId": "b1163047-9b19-4ed3-c961-6f1535925dc5"
      },
      "outputs": [
        {
          "output_type": "stream",
          "name": "stdout",
          "text": [
            "Error accessing URL: https://www.admie.gr/sites/default/files/attached-files/type-file/2023/01/20230131_SystemRealizationSCADA_01.xls\n",
            "Error accessing URL: https://www.admie.gr/sites/default/files/attached-files/type-file/2023/02/20230228_SystemRealizationSCADA_01.xls\n",
            "Error accessing URL: https://www.admie.gr/sites/default/files/attached-files/type-file/2023/03/20230331_SystemRealizationSCADA_01.xls\n",
            "Error accessing URL: https://www.admie.gr/sites/default/files/attached-files/type-file/2023/04/20230430_SystemRealizationSCADA_01.xls\n",
            "Error accessing URL: https://www.admie.gr/sites/default/files/attached-files/type-file/2023/05/20230531_SystemRealizationSCADA_01.xls\n",
            "Error accessing URL: https://www.admie.gr/sites/default/files/attached-files/type-file/2023/06/20230630_SystemRealizationSCADA_01.xls\n",
            "Error accessing URL: https://www.admie.gr/sites/default/files/attached-files/type-file/2023/07/20230731_SystemRealizationSCADA_01.xls\n",
            "Error accessing URL: https://www.admie.gr/sites/default/files/attached-files/type-file/2023/08/20230831_SystemRealizationSCADA_01.xls\n",
            "Error accessing URL: https://www.admie.gr/sites/default/files/attached-files/type-file/2023/09/20230930_SystemRealizationSCADA_01.xls\n",
            "Error accessing URL: https://www.admie.gr/sites/default/files/attached-files/type-file/2023/10/20231031_SystemRealizationSCADA_01.xls\n"
          ]
        }
      ],
      "source": [
        "while current_date <= end_date:\n",
        "    date_str = current_date.strftime(date_format)\n",
        "    url = f\"{base_url}{date_str}_SystemRealizationSCADA_01.xls\"\n",
        "\n",
        "    try:\n",
        "        # Read the XLSX file into a pandas DataFrame\n",
        "        df1 = pd.read_excel(url, sheet_name=\"System_Production\", converters={'(ΣΤΟΙΧΕΙΑ SCADA ΜΗ-ΠΙΣΤΟΠΟΙΗΜΕΝΑ)':str})\n",
        "        #Hydro\n",
        "        substring = 'ΣΥΝΟΛΟ ΥΔΡΟΗΛΕΚΤΡΙΚΩΝ'\n",
        "        filtered = df1[df1.apply(lambda row: row.astype(str).str.contains(substring, case=False).any(), axis=1)]\n",
        "        wanted_index = filtered.index.tolist()\n",
        "\n",
        "        if not wanted_index:\n",
        "            substring = 'TOTAL HYDRO'\n",
        "            filtered = df1[df1.apply(lambda row: row.astype(str).str.contains(substring, case=False).any(), axis=1)]\n",
        "            wanted_index = filtered.index.tolist()\n",
        "\n",
        "        value = df1.iloc[wanted_index[len(wanted_index)-1],26]\n",
        "        row = pd.DataFrame([[value]], columns=['Total Hydro'], index=[date_str])\n",
        "        df_hydro = pd.concat([df_hydro, row])\n",
        "        df_hydro = df_hydro.rename(index={wanted_index[len(wanted_index)-1]: date_str})\n",
        "\n",
        "        #Lignite\n",
        "        substring = 'ΣΥΝΟΛΟ ΛΙΓΝΙΤΙΚΩΝ'\n",
        "        filtered = df1[df1.apply(lambda row: row.astype(str).str.contains(substring, case=False).any(), axis=1)]\n",
        "        wanted_index = filtered.index.tolist()\n",
        "\n",
        "        if not wanted_index:\n",
        "            substring = 'TOTAL LIGNITE'\n",
        "            filtered = df1[df1.apply(lambda row: row.astype(str).str.contains(substring, case=False).any(), axis=1)]\n",
        "            wanted_index = filtered.index.tolist()\n",
        "\n",
        "        value = df1.iloc[wanted_index[len(wanted_index)-1],26]\n",
        "        row = pd.DataFrame([[value]], columns=['Total Lignite in MWh'], index=[date_str])\n",
        "\n",
        "        df_lignite = pd.concat([df_lignite, row])\n",
        "        df_lignite = df_lignite.rename(index={wanted_index[len(wanted_index)-1]: date_str})\n",
        "\n",
        "        #Gas\n",
        "        substring = 'ΣΥΝΟΛΟ Φ. ΑΕΡΙΟΥ'\n",
        "        filtered = df1[df1.apply(lambda row: row.astype(str).str.contains(substring, case=False).any(), axis=1)]\n",
        "        wanted_index = filtered.index.tolist()\n",
        "\n",
        "        if not wanted_index:\n",
        "            substring = 'TOTAL GAS'\n",
        "            filtered = df1[df1.apply(lambda row: row.astype(str).str.contains(substring, case=False).any(), axis=1)]\n",
        "            wanted_index = filtered.index.tolist()\n",
        "\n",
        "        value = df1.iloc[wanted_index[len(wanted_index)-1],26]\n",
        "        row = pd.DataFrame([[value]], columns=['Total Gas'], index=[date_str])\n",
        "\n",
        "        df_gas = pd.concat([df_gas, row])\n",
        "        df_gas = df_gas.rename(index={wanted_index[len(wanted_index)-1]: date_str})\n",
        "\n",
        "\n",
        "        #RES\n",
        "        substring = 'TOTAL RES'\n",
        "        filtered = df1[df1.apply(lambda row: row.astype(str).str.contains(substring, case=False).any(), axis=1)]\n",
        "        wanted_index = filtered.index.tolist()\n",
        "\n",
        "        if not wanted_index:\n",
        "            substring = 'ΣΥΝΟΛΟ ΑΙΟΛΙΚΩΝ'\n",
        "            filtered = df1[df1.apply(lambda row: row.astype(str).str.contains(substring, case=False).any(), axis=1)]\n",
        "            wanted_index = filtered.index.tolist()\n",
        "\n",
        "        value = df1.iloc[wanted_index[len(wanted_index)-1],26]\n",
        "        row = pd.DataFrame([[value]], columns=['Total RES'], index=[date_str])\n",
        "\n",
        "        df_res = pd.concat([df_res, row])\n",
        "        df_res = df_res.rename(index={wanted_index[len(wanted_index)-1]: date_str})\n",
        "\n",
        "\n",
        "        #Interconections\n",
        "        substring = 'EXPORTS-IMPORTS'\n",
        "        filtered = df1[df1.apply(lambda row: row.astype(str).str.contains(substring, case=False).any(), axis=1)]\n",
        "        wanted_index = filtered.index.tolist()\n",
        "\n",
        "        if not wanted_index:\n",
        "            substring = 'ΚΑΘΑΡΟ ΔΙΑΣΥΝΔΕΣΕΩΝ'\n",
        "            filtered = df1[df1.apply(lambda row: row.astype(str).str.contains(substring, case=False).any(), axis=1)]\n",
        "            wanted_index = filtered.index.tolist()\n",
        "\n",
        "        value = df1.iloc[wanted_index[len(wanted_index)-1],26]\n",
        "        row = pd.DataFrame([[value]], columns=['Exports - Imports'], index=[date_str])\n",
        "\n",
        "        df_inter = pd.concat([df_inter, row])\n",
        "        df_inter = df_inter.rename(index={wanted_index[len(wanted_index)-1]: date_str})\n",
        "\n",
        "\n",
        "        #Net Load\n",
        "        substring = 'NET LOAD'\n",
        "        filtered = df1[df1.apply(lambda row: row.astype(str).str.contains(substring, case=False).any(), axis=1)]\n",
        "        wanted_index = filtered.index.tolist()\n",
        "\n",
        "        if not wanted_index:\n",
        "            substring = 'ΚΑΘΑΡΟ ΦΟΡΤΙΟ'\n",
        "            filtered = df1[df1.apply(lambda row: row.astype(str).str.contains(substring, case=False).any(), axis=1)]\n",
        "            wanted_index = filtered.index.tolist()\n",
        "\n",
        "        value = df1.iloc[wanted_index[len(wanted_index)-1],26]\n",
        "        row = pd.DataFrame([[value]], columns=['Total Net Load'], index=[date_str])\n",
        "\n",
        "        df_net_load = pd.concat([df_net_load, row])\n",
        "        df_net_load = df_net_load.rename(index={wanted_index[len(wanted_index)-1]: date_str})\n",
        "    except HTTPError as e:\n",
        "        print(f\"Error accessing URL: {url}\")\n",
        "        #print(e)\n",
        "\n",
        "\n",
        "    # Increment to the next date\n",
        "    current_date += timedelta(days=1)"
      ]
    },
    {
      "cell_type": "code",
      "execution_count": null,
      "metadata": {
        "id": "RA5siJ1wY-da"
      },
      "outputs": [],
      "source": [
        "url1 = \"https://www.admie.gr/sites/default/files/attached-files/type-file/2023/02/20230131_SystemRealizationSCADA_01.xls\"\n",
        "url2 = \"https://www.admie.gr/sites/default/files/attached-files/type-file/2023/03/20230228_SystemRealizationSCADA_01.xls\"\n",
        "url3 = \"https://www.admie.gr/sites/default/files/attached-files/type-file/2023/04/20230331_SystemRealizationSCADA_01.xls\"\n",
        "url4 = \"https://www.admie.gr/sites/default/files/attached-files/type-file/2023/05/20230430_SystemRealizationSCADA_01.xls\"\n",
        "url5 = \"https://www.admie.gr/sites/default/files/attached-files/type-file/2023/06/20230531_SystemRealizationSCADA_01.xls\"\n",
        "url6 = \"https://www.admie.gr/sites/default/files/attached-files/type-file/2023/07/20230630_SystemRealizationSCADA_01.xls\"\n",
        "url7 = \"https://www.admie.gr/sites/default/files/attached-files/type-file/2023/08/20230731_SystemRealizationSCADA_01.xls\"\n",
        "url8 = \"https://www.admie.gr/sites/default/files/attached-files/type-file/2023/09/20230831_SystemRealizationSCADA_01.xls\"\n",
        "url9 = \"https://www.admie.gr/sites/default/files/attached-files/type-file/2023/10/20230930_SystemRealizationSCADA_01.xls\"\n",
        "url = [url1, url2, url3, url4, url5, url6, url7, url8, url9]\n",
        "date = {url1: '2020/07/20230131', #June\n",
        "        url2: '2020/07/20230228', #July\n",
        "        url3: '2020/07/20230331', #August\n",
        "        url4: '2020/07/20230430', #September\n",
        "        url5: '2020/07/20230531', #Octomber\n",
        "        url6: '2020/07/20230630', #June\n",
        "        url7: '2020/07/20230731', #July\n",
        "        url8: '2020/07/20230831', #August\n",
        "        url9: '2020/07/20230930', #August\n",
        "        }"
      ]
    },
    {
      "cell_type": "code",
      "execution_count": null,
      "metadata": {
        "id": "ACYOBwhBY-db"
      },
      "outputs": [],
      "source": [
        "for i in url:\n",
        "    df2 = pd.read_excel(i, sheet_name=\"System_Production\", converters={'(ΣΤΟΙΧΕΙΑ SCADA ΜΗ-ΠΙΣΤΟΠΟΙΗΜΕΝΑ)':str})\n",
        "    #Hydro\n",
        "    substring = 'ΣΥΝΟΛΟ ΥΔΡΟΗΛΕΚΤΡΙΚΩΝ'\n",
        "    filtered = df2[df2.apply(lambda row: row.astype(str).str.contains(substring, case=False).any(), axis=1)]\n",
        "    wanted_index = filtered.index.tolist()\n",
        "\n",
        "    if not wanted_index:\n",
        "        substring = 'TOTAL HYDRO'\n",
        "        filtered = df2[df2.apply(lambda row: row.astype(str).str.contains(substring, case=False).any(), axis=1)]\n",
        "        wanted_index = filtered.index.tolist()\n",
        "\n",
        "    value = df2.iloc[wanted_index[len(wanted_index)-1],26]\n",
        "    row = pd.DataFrame([[value]], columns=['Total Hydro'], index=[date[i]])\n",
        "    df_hydro = pd.concat([df_hydro, row])\n",
        "    df_hydro = df_hydro.rename(index={wanted_index[len(wanted_index)-1]: date[i]})\n",
        "\n",
        "    #Lignite\n",
        "    substring = 'ΣΥΝΟΛΟ ΛΙΓΝΙΤΙΚΩΝ'\n",
        "    filtered = df2[df2.apply(lambda row: row.astype(str).str.contains(substring, case=False).any(), axis=1)]\n",
        "    wanted_index = filtered.index.tolist()\n",
        "\n",
        "    if not wanted_index:\n",
        "        substring = 'TOTAL LIGNITE'\n",
        "        filtered = df2[df2.apply(lambda row: row.astype(str).str.contains(substring, case=False).any(), axis=1)]\n",
        "        wanted_index = filtered.index.tolist()\n",
        "\n",
        "    value = df2.iloc[wanted_index[len(wanted_index)-1],26]\n",
        "    row = pd.DataFrame([[value]], columns=['Total Lignite in MWh'], index=[date[i]])\n",
        "\n",
        "    df_lignite = pd.concat([df_lignite, row])\n",
        "    df_lignite = df_lignite.rename(index={wanted_index[len(wanted_index)-1]: date[i]})\n",
        "\n",
        "    #Gas\n",
        "    substring = 'ΣΥΝΟΛΟ Φ. ΑΕΡΙΟΥ'\n",
        "    filtered = df2[df2.apply(lambda row: row.astype(str).str.contains(substring, case=False).any(), axis=1)]\n",
        "    wanted_index = filtered.index.tolist()\n",
        "\n",
        "    if not wanted_index:\n",
        "        substring = 'TOTAL GAS'\n",
        "        filtered = df2[df2.apply(lambda row: row.astype(str).str.contains(substring, case=False).any(), axis=1)]\n",
        "        wanted_index = filtered.index.tolist()\n",
        "\n",
        "    value = df2.iloc[wanted_index[len(wanted_index)-1],26]\n",
        "    row = pd.DataFrame([[value]], columns=['Total Gas'], index=[date[i]])\n",
        "\n",
        "    df_gas = pd.concat([df_gas, row])\n",
        "    df_gas = df_gas.rename(index={wanted_index[len(wanted_index)-1]: date[i]})\n",
        "\n",
        "    #RES\n",
        "    substring = 'TOTAL RES'\n",
        "    filtered = df2[df2.apply(lambda row: row.astype(str).str.contains(substring, case=False).any(), axis=1)]\n",
        "    wanted_index = filtered.index.tolist()\n",
        "\n",
        "    if not wanted_index:\n",
        "        substring = 'ΣΥΝΟΛΟ ΑΙΟΛΙΚΩΝ'\n",
        "        filtered = df2[df2.apply(lambda row: row.astype(str).str.contains(substring, case=False).any(), axis=1)]\n",
        "        wanted_index = filtered.index.tolist()\n",
        "\n",
        "    value = df2.iloc[wanted_index[len(wanted_index)-1],26]\n",
        "    row = pd.DataFrame([[value]], columns=['Total RES'], index=[date[i]])\n",
        "\n",
        "    df_res = pd.concat([df_res, row])\n",
        "    df_res = df_res.rename(index={wanted_index[len(wanted_index)-1]: date[i]})\n",
        "\n",
        "    #Interconections\n",
        "    substring = 'EXPORTS-IMPORTS'\n",
        "    filtered = df2[df2.apply(lambda row: row.astype(str).str.contains(substring, case=False).any(), axis=1)]\n",
        "    wanted_index = filtered.index.tolist()\n",
        "\n",
        "    if not wanted_index:\n",
        "        substring = 'ΚΑΘΑΡΟ ΔΙΑΣΥΝΔΕΣΕΩΝ'\n",
        "        filtered = df2[df2.apply(lambda row: row.astype(str).str.contains(substring, case=False).any(), axis=1)]\n",
        "        wanted_index = filtered.index.tolist()\n",
        "\n",
        "    value = df2.iloc[wanted_index[len(wanted_index)-1],26]\n",
        "    row = pd.DataFrame([[value]], columns=['Exports - Imports'], index=[date[i]])\n",
        "\n",
        "    df_inter = pd.concat([df_inter, row])\n",
        "    df_inter = df_inter.rename(index={wanted_index[len(wanted_index)-1]: date[i]})\n",
        "    #Net Load\n",
        "    substring = 'NET LOAD'\n",
        "    filtered = df2[df2.apply(lambda row: row.astype(str).str.contains(substring, case=False).any(), axis=1)]\n",
        "    wanted_index = filtered.index.tolist()\n",
        "\n",
        "    if not wanted_index:\n",
        "        substring = 'ΚΑΘΑΡΟ ΦΟΡΤΙΟ'\n",
        "        filtered = df2[df2.apply(lambda row: row.astype(str).str.contains(substring, case=False).any(), axis=1)]\n",
        "        wanted_index = filtered.index.tolist()\n",
        "\n",
        "    value = df2.iloc[wanted_index[len(wanted_index)-1],26]\n",
        "    row = pd.DataFrame([[value]], columns=['Total Net Load'], index=[date[i]])\n",
        "\n",
        "    df_net_load = pd.concat([df_net_load, row])\n",
        "    df_net_load = df_net_load.rename(index={wanted_index[len(wanted_index)-1]: date[i]})\n"
      ]
    },
    {
      "cell_type": "markdown",
      "metadata": {
        "id": "dvx7QlY4ZUiT"
      },
      "source": [
        "##Drop duplicates\n"
      ]
    },
    {
      "cell_type": "code",
      "execution_count": null,
      "metadata": {
        "id": "EwzFDIe-ZYVj"
      },
      "outputs": [],
      "source": [
        "#RES\n",
        "df_res['index'] = df_res.index\n",
        "df_res = df_res.drop_duplicates(subset='index')\n",
        "df_res.drop(['index'], axis = 1, inplace = True)\n",
        "\n",
        "#HYDRO\n",
        "df_hydro['index'] = df_hydro.index\n",
        "df_hydro = df_hydro.drop_duplicates(subset='index')\n",
        "df_hydro.drop(['index'], axis = 1, inplace = True)\n",
        "\n",
        "#LIGNITE\n",
        "df_lignite['index'] = df_lignite.index\n",
        "df_lignite = df_lignite.drop_duplicates(subset='index')\n",
        "df_lignite.drop(['index'], axis = 1, inplace = True)\n",
        "\n",
        "#NET LOAD\n",
        "df_net_load['index'] = df_net_load.index\n",
        "df_net_load = df_net_load.drop_duplicates(subset='index')\n",
        "df_net_load.drop(['index'], axis = 1, inplace = True)\n",
        "\n",
        "#GAS\n",
        "df_gas['index'] = df_gas.index\n",
        "df_gas = df_gas.drop_duplicates(subset='index')\n",
        "df_gas.drop(['index'], axis = 1, inplace = True)\n",
        "\n",
        "#GAS\n",
        "df_inter['index'] = df_inter.index\n",
        "df_inter = df_inter.drop_duplicates(subset='index')\n",
        "df_inter.drop(['index'], axis = 1, inplace = True)"
      ]
    },
    {
      "cell_type": "markdown",
      "metadata": {
        "id": "N-D5CqQIZmel"
      },
      "source": [
        "##Indexes"
      ]
    },
    {
      "cell_type": "code",
      "execution_count": null,
      "metadata": {
        "id": "CPvG3QtEZYYf",
        "colab": {
          "base_uri": "https://localhost:8080/",
          "height": 391
        },
        "outputId": "47ad2c86-3c67-4329-9d25-465a4bb0bfef"
      },
      "outputs": [
        {
          "output_type": "error",
          "ename": "AttributeError",
          "evalue": "ignored",
          "traceback": [
            "\u001b[0;31m---------------------------------------------------------------------------\u001b[0m",
            "\u001b[0;31mAttributeError\u001b[0m                            Traceback (most recent call last)",
            "\u001b[0;32m<ipython-input-76-b4ce0a21648b>\u001b[0m in \u001b[0;36m<cell line: 1>\u001b[0;34m()\u001b[0m\n\u001b[0;32m----> 1\u001b[0;31m \u001b[0mdf_gas\u001b[0m\u001b[0;34m.\u001b[0m\u001b[0mindex\u001b[0m \u001b[0;34m=\u001b[0m \u001b[0mdf_gas\u001b[0m\u001b[0;34m.\u001b[0m\u001b[0mindex\u001b[0m\u001b[0;34m.\u001b[0m\u001b[0mstr\u001b[0m\u001b[0;34m[\u001b[0m\u001b[0;36m8\u001b[0m\u001b[0;34m:\u001b[0m\u001b[0;34m]\u001b[0m\u001b[0;34m\u001b[0m\u001b[0;34m\u001b[0m\u001b[0m\n\u001b[0m\u001b[1;32m      2\u001b[0m \u001b[0mdf_hydro\u001b[0m\u001b[0;34m.\u001b[0m\u001b[0mindex\u001b[0m \u001b[0;34m=\u001b[0m \u001b[0mdf_hydro\u001b[0m\u001b[0;34m.\u001b[0m\u001b[0mindex\u001b[0m\u001b[0;34m.\u001b[0m\u001b[0mstr\u001b[0m\u001b[0;34m[\u001b[0m\u001b[0;36m8\u001b[0m\u001b[0;34m:\u001b[0m\u001b[0;34m]\u001b[0m\u001b[0;34m\u001b[0m\u001b[0;34m\u001b[0m\u001b[0m\n\u001b[1;32m      3\u001b[0m \u001b[0mdf_lignite\u001b[0m\u001b[0;34m.\u001b[0m\u001b[0mindex\u001b[0m \u001b[0;34m=\u001b[0m \u001b[0mdf_lignite\u001b[0m\u001b[0;34m.\u001b[0m\u001b[0mindex\u001b[0m\u001b[0;34m.\u001b[0m\u001b[0mstr\u001b[0m\u001b[0;34m[\u001b[0m\u001b[0;36m8\u001b[0m\u001b[0;34m:\u001b[0m\u001b[0;34m]\u001b[0m\u001b[0;34m\u001b[0m\u001b[0;34m\u001b[0m\u001b[0m\n\u001b[1;32m      4\u001b[0m \u001b[0mdf_net_load\u001b[0m\u001b[0;34m.\u001b[0m\u001b[0mindex\u001b[0m \u001b[0;34m=\u001b[0m \u001b[0mdf_net_load\u001b[0m\u001b[0;34m.\u001b[0m\u001b[0mindex\u001b[0m\u001b[0;34m.\u001b[0m\u001b[0mstr\u001b[0m\u001b[0;34m[\u001b[0m\u001b[0;36m8\u001b[0m\u001b[0;34m:\u001b[0m\u001b[0;34m]\u001b[0m\u001b[0;34m\u001b[0m\u001b[0;34m\u001b[0m\u001b[0m\n\u001b[1;32m      5\u001b[0m \u001b[0mdf_res\u001b[0m\u001b[0;34m.\u001b[0m\u001b[0mindex\u001b[0m \u001b[0;34m=\u001b[0m \u001b[0mdf_res\u001b[0m\u001b[0;34m.\u001b[0m\u001b[0mindex\u001b[0m\u001b[0;34m.\u001b[0m\u001b[0mstr\u001b[0m\u001b[0;34m[\u001b[0m\u001b[0;36m8\u001b[0m\u001b[0;34m:\u001b[0m\u001b[0;34m]\u001b[0m\u001b[0;34m\u001b[0m\u001b[0;34m\u001b[0m\u001b[0m\n",
            "\u001b[0;32m/usr/local/lib/python3.10/dist-packages/pandas/core/accessor.py\u001b[0m in \u001b[0;36m__get__\u001b[0;34m(self, obj, cls)\u001b[0m\n\u001b[1;32m    180\u001b[0m             \u001b[0;31m# we're accessing the attribute of the class, i.e., Dataset.geo\u001b[0m\u001b[0;34m\u001b[0m\u001b[0;34m\u001b[0m\u001b[0m\n\u001b[1;32m    181\u001b[0m             \u001b[0;32mreturn\u001b[0m \u001b[0mself\u001b[0m\u001b[0;34m.\u001b[0m\u001b[0m_accessor\u001b[0m\u001b[0;34m\u001b[0m\u001b[0;34m\u001b[0m\u001b[0m\n\u001b[0;32m--> 182\u001b[0;31m         \u001b[0maccessor_obj\u001b[0m \u001b[0;34m=\u001b[0m \u001b[0mself\u001b[0m\u001b[0;34m.\u001b[0m\u001b[0m_accessor\u001b[0m\u001b[0;34m(\u001b[0m\u001b[0mobj\u001b[0m\u001b[0;34m)\u001b[0m\u001b[0;34m\u001b[0m\u001b[0;34m\u001b[0m\u001b[0m\n\u001b[0m\u001b[1;32m    183\u001b[0m         \u001b[0;31m# Replace the property with the accessor object. Inspired by:\u001b[0m\u001b[0;34m\u001b[0m\u001b[0;34m\u001b[0m\u001b[0m\n\u001b[1;32m    184\u001b[0m         \u001b[0;31m# https://www.pydanny.com/cached-property.html\u001b[0m\u001b[0;34m\u001b[0m\u001b[0;34m\u001b[0m\u001b[0m\n",
            "\u001b[0;32m/usr/local/lib/python3.10/dist-packages/pandas/core/strings/accessor.py\u001b[0m in \u001b[0;36m__init__\u001b[0;34m(self, data)\u001b[0m\n\u001b[1;32m    179\u001b[0m         \u001b[0;32mfrom\u001b[0m \u001b[0mpandas\u001b[0m\u001b[0;34m.\u001b[0m\u001b[0mcore\u001b[0m\u001b[0;34m.\u001b[0m\u001b[0marrays\u001b[0m\u001b[0;34m.\u001b[0m\u001b[0mstring_\u001b[0m \u001b[0;32mimport\u001b[0m \u001b[0mStringDtype\u001b[0m\u001b[0;34m\u001b[0m\u001b[0;34m\u001b[0m\u001b[0m\n\u001b[1;32m    180\u001b[0m \u001b[0;34m\u001b[0m\u001b[0m\n\u001b[0;32m--> 181\u001b[0;31m         \u001b[0mself\u001b[0m\u001b[0;34m.\u001b[0m\u001b[0m_inferred_dtype\u001b[0m \u001b[0;34m=\u001b[0m \u001b[0mself\u001b[0m\u001b[0;34m.\u001b[0m\u001b[0m_validate\u001b[0m\u001b[0;34m(\u001b[0m\u001b[0mdata\u001b[0m\u001b[0;34m)\u001b[0m\u001b[0;34m\u001b[0m\u001b[0;34m\u001b[0m\u001b[0m\n\u001b[0m\u001b[1;32m    182\u001b[0m         \u001b[0mself\u001b[0m\u001b[0;34m.\u001b[0m\u001b[0m_is_categorical\u001b[0m \u001b[0;34m=\u001b[0m \u001b[0mis_categorical_dtype\u001b[0m\u001b[0;34m(\u001b[0m\u001b[0mdata\u001b[0m\u001b[0;34m.\u001b[0m\u001b[0mdtype\u001b[0m\u001b[0;34m)\u001b[0m\u001b[0;34m\u001b[0m\u001b[0;34m\u001b[0m\u001b[0m\n\u001b[1;32m    183\u001b[0m         \u001b[0mself\u001b[0m\u001b[0;34m.\u001b[0m\u001b[0m_is_string\u001b[0m \u001b[0;34m=\u001b[0m \u001b[0misinstance\u001b[0m\u001b[0;34m(\u001b[0m\u001b[0mdata\u001b[0m\u001b[0;34m.\u001b[0m\u001b[0mdtype\u001b[0m\u001b[0;34m,\u001b[0m \u001b[0mStringDtype\u001b[0m\u001b[0;34m)\u001b[0m\u001b[0;34m\u001b[0m\u001b[0;34m\u001b[0m\u001b[0m\n",
            "\u001b[0;32m/usr/local/lib/python3.10/dist-packages/pandas/core/strings/accessor.py\u001b[0m in \u001b[0;36m_validate\u001b[0;34m(data)\u001b[0m\n\u001b[1;32m    233\u001b[0m \u001b[0;34m\u001b[0m\u001b[0m\n\u001b[1;32m    234\u001b[0m         \u001b[0;32mif\u001b[0m \u001b[0minferred_dtype\u001b[0m \u001b[0;32mnot\u001b[0m \u001b[0;32min\u001b[0m \u001b[0mallowed_types\u001b[0m\u001b[0;34m:\u001b[0m\u001b[0;34m\u001b[0m\u001b[0;34m\u001b[0m\u001b[0m\n\u001b[0;32m--> 235\u001b[0;31m             \u001b[0;32mraise\u001b[0m \u001b[0mAttributeError\u001b[0m\u001b[0;34m(\u001b[0m\u001b[0;34m\"Can only use .str accessor with string values!\"\u001b[0m\u001b[0;34m)\u001b[0m\u001b[0;34m\u001b[0m\u001b[0;34m\u001b[0m\u001b[0m\n\u001b[0m\u001b[1;32m    236\u001b[0m         \u001b[0;32mreturn\u001b[0m \u001b[0minferred_dtype\u001b[0m\u001b[0;34m\u001b[0m\u001b[0;34m\u001b[0m\u001b[0m\n\u001b[1;32m    237\u001b[0m \u001b[0;34m\u001b[0m\u001b[0m\n",
            "\u001b[0;31mAttributeError\u001b[0m: Can only use .str accessor with string values!"
          ]
        }
      ],
      "source": [
        "df_gas.index = df_gas.index.str[8:]\n",
        "df_hydro.index = df_hydro.index.str[8:]\n",
        "df_lignite.index = df_lignite.index.str[8:]\n",
        "df_net_load.index = df_net_load.index.str[8:]\n",
        "df_res.index = df_res.index.str[8:]\n",
        "df_inter.index = df_inter.index.str[8:]"
      ]
    },
    {
      "cell_type": "markdown",
      "metadata": {
        "id": "xxIik_7zZ0jn"
      },
      "source": [
        "##Datetime format"
      ]
    },
    {
      "cell_type": "code",
      "execution_count": null,
      "metadata": {
        "id": "r_z785K5ZYbP"
      },
      "outputs": [],
      "source": [
        "df_res.index = pd.to_datetime(df_res.index, format='%Y/%m/%d')\n",
        "df_lignite.index = pd.to_datetime(df_lignite.index, format='%Y/%m/%d')\n",
        "df_net_load.index = pd.to_datetime(df_net_load.index, format='%Y/%m/%d')\n",
        "df_hydro.index = pd.to_datetime(df_hydro.index, format='%Y/%m/%d')\n",
        "df_gas.index = pd.to_datetime(df_gas.index, format='%Y/%m/%d')\n",
        "df_inter.index = pd.to_datetime(df_inter.index, format= '%Y/%m/%d')"
      ]
    },
    {
      "cell_type": "markdown",
      "source": [
        "##Save to drive\n"
      ],
      "metadata": {
        "id": "eGFL9UxEJKFM"
      }
    },
    {
      "cell_type": "code",
      "source": [
        "df_gas.to_csv('gas_2023.csv')\n",
        "!cp gas_2023.csv \"drive/My Drive/\""
      ],
      "metadata": {
        "id": "DRxXivzSJKFN"
      },
      "execution_count": null,
      "outputs": []
    },
    {
      "cell_type": "code",
      "source": [
        "df_res.to_csv('res_2023.csv')\n",
        "!cp res_2023.csv \"drive/My Drive/\""
      ],
      "metadata": {
        "id": "r4mg8vh7JKFN"
      },
      "execution_count": null,
      "outputs": []
    },
    {
      "cell_type": "code",
      "source": [
        "df_lignite.to_csv('lignite_2023.csv')\n",
        "!cp lignite_2023.csv \"drive/My Drive/\""
      ],
      "metadata": {
        "id": "NHi6s57uJKFN"
      },
      "execution_count": null,
      "outputs": []
    },
    {
      "cell_type": "code",
      "source": [
        "df_net_load.to_csv('net_load_2023.csv')\n",
        "!cp net_load_2023.csv \"drive/My Drive/\""
      ],
      "metadata": {
        "id": "Jr9RGPKNJKFO"
      },
      "execution_count": null,
      "outputs": []
    },
    {
      "cell_type": "code",
      "source": [
        "df_hydro.to_csv('hydro_2023.csv')\n",
        "!cp hydro_2023.csv \"drive/My Drive/\""
      ],
      "metadata": {
        "id": "bOtN7tZXJKFO"
      },
      "execution_count": null,
      "outputs": []
    },
    {
      "cell_type": "code",
      "source": [
        "df_inter.to_csv('inter_2023.csv')\n",
        "!cp inter_2023.csv \"drive/My Drive/\""
      ],
      "metadata": {
        "id": "XroEOXvjJKFO"
      },
      "execution_count": null,
      "outputs": []
    }
  ],
  "metadata": {
    "colab": {
      "collapsed_sections": [
        "QdZNbHLZX7Co",
        "3RofswukX98P"
      ],
      "provenance": [],
      "authorship_tag": "ABX9TyN09a9XxJso6kmlAbasLwO6",
      "include_colab_link": true
    },
    "kernelspec": {
      "display_name": "Python 3",
      "name": "python3"
    },
    "language_info": {
      "name": "python"
    }
  },
  "nbformat": 4,
  "nbformat_minor": 0
}